{
 "cells": [
  {
   "cell_type": "markdown",
   "metadata": {},
   "source": [
    "# Tema quatro: Ração \n",
    "## Biblioteca"
   ]
  },
  {
   "cell_type": "code",
   "execution_count": 1,
   "metadata": {},
   "outputs": [],
   "source": [
    "# ! pip install ortools"
   ]
  },
  {
   "cell_type": "code",
   "execution_count": 2,
   "metadata": {},
   "outputs": [],
   "source": [
    "from ortools.linear_solver import pywraplp"
   ]
  },
  {
   "cell_type": "markdown",
   "metadata": {},
   "source": [
    "### Dados do problema "
   ]
  },
  {
   "cell_type": "code",
   "execution_count": 3,
   "metadata": {},
   "outputs": [],
   "source": [
    "solver = pywraplp.Solver('Modelo de Ração Animal', pywraplp.Solver.GLOP_LINEAR_PROGRAMMING)"
   ]
  },
  {
   "cell_type": "code",
   "execution_count": 4,
   "metadata": {},
   "outputs": [],
   "source": [
    "# Composição nutritiva dos ingredientes\n",
    "ingredientes = [\n",
    "    [0.002, 0.01, 0.03],\n",
    "    [0.5  , 0.09, 0   ],\n",
    "    [0.008, 0.02, 0.02],\n",
    "]\n",
    "# Custo dos ingredientes\n",
    "obj_custo = [15, 20, 8]"
   ]
  },
  {
   "cell_type": "code",
   "execution_count": 5,
   "metadata": {},
   "outputs": [],
   "source": [
    "# número de ingredientes\n",
    "n_ingr = 3\n",
    "# número de nutrientes\n",
    "n_nutri = 3"
   ]
  },
  {
   "cell_type": "code",
   "execution_count": 6,
   "metadata": {},
   "outputs": [],
   "source": [
    "# Porcentagem máxima de cada nutriente \n",
    "max_nutri = [0.012, solver.infinity(), 0.2]\n",
    "# Porcentagem mínima de cada nutriente \n",
    "min_nutri = [0.008, 0.22, 0] \n",
    "demanda = 1000"
   ]
  },
  {
   "cell_type": "code",
   "execution_count": 7,
   "metadata": {},
   "outputs": [],
   "source": [
    "# Variáveis\n",
    "y = {}\n",
    "for i in range(n_ingr):\n",
    "    y[i] = solver.NumVar(0,solver.infinity(),'y'+str(i+1))"
   ]
  },
  {
   "cell_type": "code",
   "execution_count": 8,
   "metadata": {},
   "outputs": [
    {
     "data": {
      "text/plain": [
       "{0: y1, 1: y2, 2: y3}"
      ]
     },
     "execution_count": 8,
     "metadata": {},
     "output_type": "execute_result"
    }
   ],
   "source": [
    "y"
   ]
  },
  {
   "cell_type": "markdown",
   "metadata": {},
   "source": [
    "## Restrições"
   ]
  },
  {
   "cell_type": "markdown",
   "metadata": {},
   "source": [
    "**Total de ração**:\n",
    "\n",
    "$y_t = 1000$\n",
    "\n",
    "---\n",
    "\n",
    "**Total de ração em função dos ingredientes**:\n",
    "\n",
    "$y_1 + y_2 + y_3 = y_t$ "
   ]
  },
  {
   "cell_type": "code",
   "execution_count": 9,
   "metadata": {},
   "outputs": [
    {
     "name": "stdout",
     "output_type": "stream",
     "text": [
      "(y1 + y2 + y3) == 1000\n"
     ]
    }
   ],
   "source": [
    "solver.Add(solver.Sum(y.values()) == demanda,'T')\n",
    "print(solver.Sum(y.values()) == demanda)"
   ]
  },
  {
   "cell_type": "markdown",
   "metadata": {},
   "source": [
    "**Limite de nutrientes da ração**:\n",
    "\n",
    "Cálcio: $0.008*y_t \\leq x_{1,1} + x_{2,1} + x_{3,1} \\leq 0.012*y_t$\n",
    "\n",
    "Proteína: $0.22*y_t \\leq x_{1,2} + x_{2,2}$\n",
    "\n",
    "Carbo: $x_{1,3} + x_{2,3} + x_{3,3} \\leq 0.20*y_t$\n"
   ]
  },
  {
   "cell_type": "code",
   "execution_count": 10,
   "metadata": {},
   "outputs": [
    {
     "name": "stdout",
     "output_type": "stream",
     "text": [
      "((0.002 * <ortools.linear_solver.linear_solver_natural_api.VariableExpr object at 0x000001F17010C4F0>) + (0.01 * <ortools.linear_solver.linear_solver_natural_api.VariableExpr object at 0x000001F17010C100>) + (0.03 * <ortools.linear_solver.linear_solver_natural_api.VariableExpr object at 0x000001F17010C130>)) >= 8.0\n",
      "((0.5 * <ortools.linear_solver.linear_solver_natural_api.VariableExpr object at 0x000001F17010C640>) + (0.09 * <ortools.linear_solver.linear_solver_natural_api.VariableExpr object at 0x000001F17010C220>) + (0 * <ortools.linear_solver.linear_solver_natural_api.VariableExpr object at 0x000001F17010C340>)) >= 220.0\n",
      "((0.008 * <ortools.linear_solver.linear_solver_natural_api.VariableExpr object at 0x000001F17010C700>) + (0.02 * <ortools.linear_solver.linear_solver_natural_api.VariableExpr object at 0x000001F17010C4F0>) + (0.02 * <ortools.linear_solver.linear_solver_natural_api.VariableExpr object at 0x000001F17010C400>)) >= 0\n"
     ]
    }
   ],
   "source": [
    "# Limite mínimo de nutrientes da ração \n",
    "for i in range(n_nutri):\n",
    "    solver.Add(solver.Sum(ingredientes[i][j]*y[j] for j in range(n_ingr)) >= min_nutri[i]*demanda, name='RT1 '+str(i+1))\n",
    "    print(solver.Sum(ingredientes[i][j]*y[j] for j in range(n_ingr)) >= min_nutri[i]*demanda)"
   ]
  },
  {
   "cell_type": "code",
   "execution_count": 11,
   "metadata": {},
   "outputs": [
    {
     "name": "stdout",
     "output_type": "stream",
     "text": [
      "((0.002 * <ortools.linear_solver.linear_solver_natural_api.VariableExpr object at 0x000001F170111580>) + (0.01 * <ortools.linear_solver.linear_solver_natural_api.VariableExpr object at 0x000001F170111190>) + (0.03 * <ortools.linear_solver.linear_solver_natural_api.VariableExpr object at 0x000001F1701111C0>)) <= 12.0\n",
      "Trivial inequality (always true)\n",
      "((0.008 * <ortools.linear_solver.linear_solver_natural_api.VariableExpr object at 0x000001F170111670>) + (0.02 * <ortools.linear_solver.linear_solver_natural_api.VariableExpr object at 0x000001F170111580>) + (0.02 * <ortools.linear_solver.linear_solver_natural_api.VariableExpr object at 0x000001F170111490>)) <= 200.0\n"
     ]
    }
   ],
   "source": [
    "# Limite mínimo de nutrientes da ração \n",
    "for i in range(n_nutri):\n",
    "    solver.Add(solver.Sum(ingredientes[i][j]*y[j] for j in range(n_ingr)) <= max_nutri[i]*demanda, name='RT2 '+str(i+1))\n",
    "    print(solver.Sum(ingredientes[i][j]*y[j] for j in range(n_ingr)) <= max_nutri[i]*demanda)"
   ]
  },
  {
   "cell_type": "markdown",
   "metadata": {},
   "source": [
    "**Função objetivo**:\n",
    "\n",
    "Min $15*y_1 + 20*y_2 + 8*y_3$"
   ]
  },
  {
   "cell_type": "code",
   "execution_count": 12,
   "metadata": {},
   "outputs": [
    {
     "data": {
      "text/plain": [
       "[15, 20, 8]"
      ]
     },
     "execution_count": 12,
     "metadata": {},
     "output_type": "execute_result"
    }
   ],
   "source": [
    "obj_custo"
   ]
  },
  {
   "cell_type": "code",
   "execution_count": 13,
   "metadata": {},
   "outputs": [],
   "source": [
    "# Função objetivo\n",
    "obj_terms = [obj_custo[i]*y[i] for i in range(n_ingr)]\n",
    "solver.Minimize(solver.Sum(obj_terms))"
   ]
  },
  {
   "cell_type": "code",
   "execution_count": 14,
   "metadata": {},
   "outputs": [],
   "source": [
    "# Resolve\n",
    "status = solver.Solve()"
   ]
  },
  {
   "cell_type": "code",
   "execution_count": 16,
   "metadata": {},
   "outputs": [
    {
     "name": "stdout",
     "output_type": "stream",
     "text": [
      "Custo total =  12500.000000000002 \n",
      "\n",
      "Custo da Soja =  642.857142857143\n",
      "Custo do Milho =  0.0\n",
      "Custo da Cana =  357.1428571428571\n"
     ]
    }
   ],
   "source": [
    "if status == pywraplp.Solver.OPTIMAL or status == pywraplp.Solver.FEASIBLE:\n",
    "    print('Custo total = ', solver.Objective().Value(), '\\n')\n",
    "    nome_ingredientes = ['Custo da Soja = ',\n",
    "                    'Custo do Milho = ',\n",
    "                    'Custo da Cana = ']\n",
    "    for i in range(n_ingr):\n",
    "        print(nome_ingredientes[i], y[i].solution_value())"
   ]
  },
  {
   "cell_type": "code",
   "execution_count": null,
   "metadata": {},
   "outputs": [],
   "source": []
  }
 ],
 "metadata": {
  "kernelspec": {
   "display_name": "Python 3",
   "language": "python",
   "name": "python3"
  },
  "language_info": {
   "codemirror_mode": {
    "name": "ipython",
    "version": 3
   },
   "file_extension": ".py",
   "mimetype": "text/x-python",
   "name": "python",
   "nbconvert_exporter": "python",
   "pygments_lexer": "ipython3",
   "version": "3.8.3"
  }
 },
 "nbformat": 4,
 "nbformat_minor": 4
}
