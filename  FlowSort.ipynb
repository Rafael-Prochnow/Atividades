{
 "cells": [
  {
   "cell_type": "markdown",
   "id": "e3ecc1cc",
   "metadata": {},
   "source": [
    "# Rafael Andreolli Prochnow RA:176059"
   ]
  },
  {
   "cell_type": "code",
   "execution_count": 1,
   "id": "2630b444",
   "metadata": {},
   "outputs": [],
   "source": [
    "import pandas as pd\n",
    "import numpy as np"
   ]
  },
  {
   "cell_type": "code",
   "execution_count": 2,
   "id": "86a52f07",
   "metadata": {},
   "outputs": [],
   "source": [
    "# Tabela apresentada \n",
    "d = {'Alternativas': ['A1', 'A2', 'A3'],\n",
    "     'G1': [25, 54, 15],\n",
    "     'G2': [25, 17, 5], \n",
    "     'G3': [50, 71, 19],\n",
    "     'G4': [75, 45, 9],\n",
    "     'G5': [75, 63, 23]\n",
    "    }\n",
    "# Critério\n",
    "crit_max = [True, True, True, True, True]\n",
    "frame = pd.DataFrame(data=d)\n",
    "# Pesos: w\n",
    "w = [0.2, 0.2, 0.2, 0.2, 0.2]"
   ]
  },
  {
   "cell_type": "code",
   "execution_count": 3,
   "id": "f59b1c20",
   "metadata": {},
   "outputs": [
    {
     "data": {
      "text/html": [
       "<div>\n",
       "<style scoped>\n",
       "    .dataframe tbody tr th:only-of-type {\n",
       "        vertical-align: middle;\n",
       "    }\n",
       "\n",
       "    .dataframe tbody tr th {\n",
       "        vertical-align: top;\n",
       "    }\n",
       "\n",
       "    .dataframe thead th {\n",
       "        text-align: right;\n",
       "    }\n",
       "</style>\n",
       "<table border=\"1\" class=\"dataframe\">\n",
       "  <thead>\n",
       "    <tr style=\"text-align: right;\">\n",
       "      <th></th>\n",
       "      <th>Alternativas</th>\n",
       "      <th>G1</th>\n",
       "      <th>G2</th>\n",
       "      <th>G3</th>\n",
       "      <th>G4</th>\n",
       "      <th>G5</th>\n",
       "    </tr>\n",
       "  </thead>\n",
       "  <tbody>\n",
       "    <tr>\n",
       "      <th>0</th>\n",
       "      <td>A1</td>\n",
       "      <td>25</td>\n",
       "      <td>25</td>\n",
       "      <td>50</td>\n",
       "      <td>75</td>\n",
       "      <td>75</td>\n",
       "    </tr>\n",
       "    <tr>\n",
       "      <th>1</th>\n",
       "      <td>A2</td>\n",
       "      <td>54</td>\n",
       "      <td>17</td>\n",
       "      <td>71</td>\n",
       "      <td>45</td>\n",
       "      <td>63</td>\n",
       "    </tr>\n",
       "    <tr>\n",
       "      <th>2</th>\n",
       "      <td>A3</td>\n",
       "      <td>15</td>\n",
       "      <td>5</td>\n",
       "      <td>19</td>\n",
       "      <td>9</td>\n",
       "      <td>23</td>\n",
       "    </tr>\n",
       "  </tbody>\n",
       "</table>\n",
       "</div>"
      ],
      "text/plain": [
       "  Alternativas  G1  G2  G3  G4  G5\n",
       "0           A1  25  25  50  75  75\n",
       "1           A2  54  17  71  45  63\n",
       "2           A3  15   5  19   9  23"
      ]
     },
     "execution_count": 3,
     "metadata": {},
     "output_type": "execute_result"
    }
   ],
   "source": [
    "frame"
   ]
  },
  {
   "cell_type": "code",
   "execution_count": 4,
   "id": "41bf86df",
   "metadata": {},
   "outputs": [
    {
     "data": {
      "text/html": [
       "<div>\n",
       "<style scoped>\n",
       "    .dataframe tbody tr th:only-of-type {\n",
       "        vertical-align: middle;\n",
       "    }\n",
       "\n",
       "    .dataframe tbody tr th {\n",
       "        vertical-align: top;\n",
       "    }\n",
       "\n",
       "    .dataframe thead th {\n",
       "        text-align: right;\n",
       "    }\n",
       "</style>\n",
       "<table border=\"1\" class=\"dataframe\">\n",
       "  <thead>\n",
       "    <tr style=\"text-align: right;\">\n",
       "      <th></th>\n",
       "      <th>Perfis</th>\n",
       "      <th>G1</th>\n",
       "      <th>G2</th>\n",
       "      <th>G3</th>\n",
       "      <th>G4</th>\n",
       "      <th>G5</th>\n",
       "    </tr>\n",
       "  </thead>\n",
       "  <tbody>\n",
       "    <tr>\n",
       "      <th>0</th>\n",
       "      <td>R1</td>\n",
       "      <td>100</td>\n",
       "      <td>100</td>\n",
       "      <td>100</td>\n",
       "      <td>100</td>\n",
       "      <td>100</td>\n",
       "    </tr>\n",
       "    <tr>\n",
       "      <th>1</th>\n",
       "      <td>R2</td>\n",
       "      <td>75</td>\n",
       "      <td>75</td>\n",
       "      <td>75</td>\n",
       "      <td>75</td>\n",
       "      <td>75</td>\n",
       "    </tr>\n",
       "    <tr>\n",
       "      <th>2</th>\n",
       "      <td>R3</td>\n",
       "      <td>50</td>\n",
       "      <td>50</td>\n",
       "      <td>50</td>\n",
       "      <td>50</td>\n",
       "      <td>50</td>\n",
       "    </tr>\n",
       "    <tr>\n",
       "      <th>3</th>\n",
       "      <td>R4</td>\n",
       "      <td>25</td>\n",
       "      <td>25</td>\n",
       "      <td>25</td>\n",
       "      <td>25</td>\n",
       "      <td>25</td>\n",
       "    </tr>\n",
       "    <tr>\n",
       "      <th>4</th>\n",
       "      <td>R5</td>\n",
       "      <td>0</td>\n",
       "      <td>0</td>\n",
       "      <td>0</td>\n",
       "      <td>0</td>\n",
       "      <td>0</td>\n",
       "    </tr>\n",
       "  </tbody>\n",
       "</table>\n",
       "</div>"
      ],
      "text/plain": [
       "  Perfis   G1   G2   G3   G4   G5\n",
       "0     R1  100  100  100  100  100\n",
       "1     R2   75   75   75   75   75\n",
       "2     R3   50   50   50   50   50\n",
       "3     R4   25   25   25   25   25\n",
       "4     R5    0    0    0    0    0"
      ]
     },
     "execution_count": 4,
     "metadata": {},
     "output_type": "execute_result"
    }
   ],
   "source": [
    "j = {'Perfis': ['R1', 'R2', 'R3', 'R4', 'R5'],\n",
    "     'G1': [100, 75, 50, 25, 0],\n",
    "     'G2': [100, 75, 50, 25, 0], \n",
    "     'G3': [100, 75, 50, 25, 0],\n",
    "     'G4': [100, 75, 50, 25, 0],\n",
    "     'G5': [100, 75, 50, 25, 0]\n",
    "    }\n",
    "perfis = pd.DataFrame(data=j)\n",
    "perfis"
   ]
  },
  {
   "cell_type": "code",
   "execution_count": 5,
   "id": "98e53421",
   "metadata": {},
   "outputs": [],
   "source": [
    "def flowshort(frame, perfis, w, alternativa):\n",
    "    Criterios = []\n",
    "    # Variação x conforme as alternativas e os critérios\n",
    "    for x in range(len(w)):\n",
    "        # Pegamos os valores da matriz de decisão e valores dos perfis \n",
    "        dados1 = [np.array(frame[frame.columns[1:]])[alternativa][x] for i in range(len(perfis))]\n",
    "        dados = np.array(perfis[perfis.columns[1:]])\n",
    "        dados = np.vstack((dados, dados1)).T\n",
    "        \n",
    "        tamanho = len(dados)+1\n",
    "        Tabelas = np.zeros((tamanho, tamanho), dtype = int)\n",
    "        # Criando a tabela de R para cada critério \n",
    "        for i in range(tamanho):\n",
    "            for j in range(tamanho):\n",
    "                if j>i:\n",
    "                    if dados[0][i] - dados[i][j] > 0:\n",
    "                        Tabelas[i,j] = 1\n",
    "                    else:\n",
    "                        Tabelas[i,j] = 0\n",
    "                elif j<i:\n",
    "                    if dados[j][i] - dados[0][j] > 0:\n",
    "                        Tabelas[i,j] = 1\n",
    "                    else:\n",
    "                        Tabelas[i,j] = 0\n",
    "        # Depois que realizar o primeiro modelo, rodamos para os demais critérios de R e acrescentamos na\n",
    "        # Variável Critérios\n",
    "        Criterios.append(Tabelas)\n",
    "    \n",
    "    # Grau de Preferência \n",
    "    for y in range(len(w)):\n",
    "        Criterios[y] = Criterios[y]*w[y]\n",
    "    matriz_final = sum(Criterios)\n",
    "\n",
    "    # Cálculos dos fluxos  \n",
    "    Fluxo_Negativo = []\n",
    "    Fluxo_Positivo = []\n",
    "    for k in range(tamanho):\n",
    "        Fluxo_Positivo.append(sum(matriz_final[k])/len(w))\n",
    "\n",
    "    matriz_invertida = matriz_final.T\n",
    "    for kk in range(tamanho):\n",
    "        Fluxo_Negativo.append(sum(matriz_invertida[kk])/len(w))\n",
    "\n",
    "    # Fluxo Líquido\n",
    "    Fluxo_Liquido = list(np.array(Fluxo_Positivo) - np.array(Fluxo_Negativo))\n",
    "    \n",
    "    # Valores finais \n",
    "    valor1 = matriz_final[-1][:-1]\n",
    "    valor2 = matriz_invertida[-1][:-1]\n",
    "    \n",
    "    return matriz_final, Fluxo_Positivo, Fluxo_Negativo, Fluxo_Liquido, valor1, valor2"
   ]
  },
  {
   "cell_type": "code",
   "execution_count": 6,
   "id": "c08ea84d",
   "metadata": {},
   "outputs": [],
   "source": [
    "matriz_final, Fluxo_Positivo, Fluxo_Negativo, Fluxo_Liquido, valor1, valor2 = flowshort(frame, perfis, w, alternativa=0)"
   ]
  },
  {
   "cell_type": "code",
   "execution_count": 7,
   "id": "be876e48",
   "metadata": {},
   "outputs": [
    {
     "data": {
      "text/plain": [
       "[0.0, 0.2, 0.48, 0.72, 1.0, 0.4]"
      ]
     },
     "execution_count": 7,
     "metadata": {},
     "output_type": "execute_result"
    }
   ],
   "source": [
    "Fluxo_Negativo"
   ]
  },
  {
   "cell_type": "code",
   "execution_count": 8,
   "id": "90f69c00",
   "metadata": {},
   "outputs": [
    {
     "data": {
      "text/plain": [
       "[1.0, 0.72, 0.48, 0.2, 0.0, 0.4]"
      ]
     },
     "execution_count": 8,
     "metadata": {},
     "output_type": "execute_result"
    }
   ],
   "source": [
    "Fluxo_Positivo"
   ]
  },
  {
   "cell_type": "code",
   "execution_count": 9,
   "id": "1649962c",
   "metadata": {},
   "outputs": [
    {
     "data": {
      "text/plain": [
       "[1.0, 0.52, 0.0, -0.52, -1.0, 0.0]"
      ]
     },
     "execution_count": 9,
     "metadata": {},
     "output_type": "execute_result"
    }
   ],
   "source": [
    "Fluxo_Liquido"
   ]
  },
  {
   "cell_type": "code",
   "execution_count": 10,
   "id": "9c7679de",
   "metadata": {},
   "outputs": [
    {
     "data": {
      "text/plain": [
       "array([[0. , 1. , 1. , 1. , 1. , 1. ],\n",
       "       [0. , 0. , 1. , 1. , 1. , 0.6],\n",
       "       [0. , 0. , 0. , 1. , 1. , 0.4],\n",
       "       [0. , 0. , 0. , 0. , 1. , 0. ],\n",
       "       [0. , 0. , 0. , 0. , 0. , 0. ],\n",
       "       [0. , 0. , 0.4, 0.6, 1. , 0. ]])"
      ]
     },
     "execution_count": 10,
     "metadata": {},
     "output_type": "execute_result"
    }
   ],
   "source": [
    "matriz_final"
   ]
  },
  {
   "cell_type": "code",
   "execution_count": 11,
   "id": "20bcd6eb",
   "metadata": {},
   "outputs": [
    {
     "data": {
      "text/plain": [
       "array([0. , 0. , 0.4, 0.6, 1. ])"
      ]
     },
     "execution_count": 11,
     "metadata": {},
     "output_type": "execute_result"
    }
   ],
   "source": [
    "valor1"
   ]
  },
  {
   "cell_type": "code",
   "execution_count": 12,
   "id": "a55a06f1",
   "metadata": {},
   "outputs": [
    {
     "data": {
      "text/plain": [
       "array([1. , 0.6, 0.4, 0. , 0. ])"
      ]
     },
     "execution_count": 12,
     "metadata": {},
     "output_type": "execute_result"
    }
   ],
   "source": [
    "valor2"
   ]
  },
  {
   "cell_type": "code",
   "execution_count": 13,
   "id": "cd307aae",
   "metadata": {},
   "outputs": [],
   "source": [
    "matriz_final, Fluxo_Positivo, Fluxo_Negativo, Fluxo_Liquido, valor3, valor4 = flowshort(frame, perfis, w, alternativa=1)"
   ]
  },
  {
   "cell_type": "code",
   "execution_count": 14,
   "id": "4487ae7a",
   "metadata": {},
   "outputs": [
    {
     "data": {
      "text/plain": [
       "array([0. , 0. , 0.6, 0.8, 1. ])"
      ]
     },
     "execution_count": 14,
     "metadata": {},
     "output_type": "execute_result"
    }
   ],
   "source": [
    "valor3"
   ]
  },
  {
   "cell_type": "code",
   "execution_count": 15,
   "id": "0fe294a2",
   "metadata": {},
   "outputs": [
    {
     "data": {
      "text/plain": [
       "array([1. , 1. , 0.4, 0.2, 0. ])"
      ]
     },
     "execution_count": 15,
     "metadata": {},
     "output_type": "execute_result"
    }
   ],
   "source": [
    "valor4"
   ]
  },
  {
   "cell_type": "code",
   "execution_count": 16,
   "id": "93871266",
   "metadata": {},
   "outputs": [],
   "source": [
    "matriz_final, Fluxo_Positivo, Fluxo_Negativo, Fluxo_Liquido, valor5, valor6 = flowshort(frame, perfis, w, alternativa=2)"
   ]
  },
  {
   "cell_type": "code",
   "execution_count": 17,
   "id": "af4eb82e",
   "metadata": {},
   "outputs": [
    {
     "data": {
      "text/plain": [
       "array([0., 0., 0., 0., 1.])"
      ]
     },
     "execution_count": 17,
     "metadata": {},
     "output_type": "execute_result"
    }
   ],
   "source": [
    "valor5"
   ]
  },
  {
   "cell_type": "code",
   "execution_count": 18,
   "id": "25dfd793",
   "metadata": {},
   "outputs": [
    {
     "data": {
      "text/plain": [
       "array([1., 1., 1., 1., 0.])"
      ]
     },
     "execution_count": 18,
     "metadata": {},
     "output_type": "execute_result"
    }
   ],
   "source": [
    "valor6"
   ]
  },
  {
   "cell_type": "markdown",
   "id": "6fb9a506",
   "metadata": {},
   "source": [
    "Após realizar o método FlowSort, foram obtidos os resultados do Fluxo Negativo, Positivo, Líquido e as matrizes do grau de preferência. Não entendi direito como chegar aos valores de categoria, mas não acho que seja difícil chegar na classificação utilizando o programa.  "
   ]
  },
  {
   "cell_type": "code",
   "execution_count": null,
   "id": "219895e0",
   "metadata": {},
   "outputs": [],
   "source": []
  },
  {
   "cell_type": "code",
   "execution_count": null,
   "id": "1e7cfc65",
   "metadata": {},
   "outputs": [],
   "source": []
  }
 ],
 "metadata": {
  "kernelspec": {
   "display_name": "Python 3",
   "language": "python",
   "name": "python3"
  },
  "language_info": {
   "codemirror_mode": {
    "name": "ipython",
    "version": 3
   },
   "file_extension": ".py",
   "mimetype": "text/x-python",
   "name": "python",
   "nbconvert_exporter": "python",
   "pygments_lexer": "ipython3",
   "version": "3.8.8"
  }
 },
 "nbformat": 4,
 "nbformat_minor": 5
}
