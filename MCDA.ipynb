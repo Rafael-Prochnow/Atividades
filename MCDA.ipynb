{
 "cells": [
  {
   "cell_type": "code",
   "execution_count": 1,
   "metadata": {},
   "outputs": [],
   "source": [
    "import pandas as pd\n",
    "import numpy as np\n",
    "from scipy.spatial import distance\n",
    "import cmath\n",
    "import math\n",
    "import scipy.stats as stats\n",
    "from IPython.display import clear_output\n",
    "import time\n",
    "import matplotlib.pyplot as plt"
   ]
  },
  {
   "cell_type": "markdown",
   "metadata": {},
   "source": [
    "# Apresentação "
   ]
  },
  {
   "cell_type": "markdown",
   "metadata": {},
   "source": [
    "\n",
    "### Olá! Meu nome é Rafael Andreolli Prochnow e sou formado em Ciências do Esporte pela Unicamp "
   ]
  },
  {
   "cell_type": "markdown",
   "metadata": {},
   "source": [
    "# Passo a Passo do MCDA "
   ]
  },
  {
   "cell_type": "markdown",
   "metadata": {},
   "source": [
    "\n",
    "\n",
    "## Instância Decisória\n",
    "-> Decisor: Pessoa que tem o poder de decisão na empresa\\\n",
    "-> O Analista: Realiza as análises para o decisor\\\n",
    "-> Agente 1...K: Pessoas presentes na empresa que tem o conhecimento específico das áreas analisadas\\\n",
    "\n",
    "## Modelagem do Problema \n",
    "* Definição do Objetivo\n",
    "* Definição dos Criérios e subcritérios:\n",
    "> $C = \\{C_{1}, C_{2}, ..., C_{k}\\}$\n",
    "* Definição das Alternativas\n",
    "> $A = \\{A_{1}, A_{2}, ..., A_{n}\\}$\n",
    "\n",
    "\n",
    "## Método MCDA\n",
    "* Atribuição de valor relativo ou estrutura de comprarção entre critérios: Pesos\n",
    "> $w = \\{w_{1}, w_{2}, ..., w_{k}\\}$, tal que, $\\sum_{j=1}^{k} w_{j}= 1$ o conjunto de pesos dos critérios\n",
    "* Avaliação das alternativas em relação aos critérios: (Obtenção da matriz de decisão)\n",
    "> $ \\begin{bmatrix} d_{11} & \\cdots & d_{1k} \\\\ \\vdots & \\ddots & \\vdots \\\\ d_{n1} & \\cdots & d_{nk} \\end{bmatrix} $\n",
    "a matriz de decisão, onde $d_{ij}$ representa a avaliação da alternativa $A_{i}$ em relação ao critério $C_{j}$\n",
    "* Normalização da matriz de decisão\n",
    "* Escolha e aplicação de um método de agregação \n",
    "* Análise de sensibilidade "
   ]
  },
  {
   "cell_type": "markdown",
   "metadata": {},
   "source": [
    "\n",
    "# Princípios Desejáveis em MCDA\n",
    "* Deve servir de apoio para o decisor e não ter a pretensão de substituí-lo \n",
    "* Identificar os valores e julgamentos e propiciar uma ofrma analítica e organizada de se chegar a ulgum consenso.\n",
    "* Deve complementar e desafiar a intuição do deciso,  sem querer substituir sua experiência intuitiva.\n",
    "* Deve estimular a tomada de boas decisões além de fornecer uma maneira sistemátia de apresentá-las e defendê-las.\n",
    "\n",
    "# Racional Compensatório ou Não-Compensatório\n",
    "*As informações e imagem foram retiradas do slides do professor na matérias PO 460- Métodos de Apoio à Decisão Multicritério \n"
   ]
  },
  {
   "cell_type": "code",
   "execution_count": 2,
   "metadata": {},
   "outputs": [],
   "source": [
    "#<br>\n",
    "#<img src=\"imagem1.png\">"
   ]
  },
  {
   "cell_type": "markdown",
   "metadata": {
    "heading_collapsed": true
   },
   "source": [
    "# Atividade 1"
   ]
  },
  {
   "cell_type": "code",
   "execution_count": 3,
   "metadata": {
    "hidden": true
   },
   "outputs": [
    {
     "data": {
      "text/html": [
       "<div>\n",
       "<style scoped>\n",
       "    .dataframe tbody tr th:only-of-type {\n",
       "        vertical-align: middle;\n",
       "    }\n",
       "\n",
       "    .dataframe tbody tr th {\n",
       "        vertical-align: top;\n",
       "    }\n",
       "\n",
       "    .dataframe thead th {\n",
       "        text-align: right;\n",
       "    }\n",
       "</style>\n",
       "<table border=\"1\" class=\"dataframe\">\n",
       "  <thead>\n",
       "    <tr style=\"text-align: right;\">\n",
       "      <th></th>\n",
       "      <th>Alternativas</th>\n",
       "      <th>Preço (R$)</th>\n",
       "      <th>Prazo de Entrega (Dias)</th>\n",
       "      <th>Habilidade Técnica</th>\n",
       "      <th>Capacidade Produtiva</th>\n",
       "      <th>Confiabilidade</th>\n",
       "      <th>Pós-Venda</th>\n",
       "      <th>Localização (KM)</th>\n",
       "    </tr>\n",
       "  </thead>\n",
       "  <tbody>\n",
       "    <tr>\n",
       "      <th>0</th>\n",
       "      <td>Fornecedor A</td>\n",
       "      <td>1.20</td>\n",
       "      <td>25</td>\n",
       "      <td>8</td>\n",
       "      <td>58000</td>\n",
       "      <td>7</td>\n",
       "      <td>5</td>\n",
       "      <td>1126</td>\n",
       "    </tr>\n",
       "    <tr>\n",
       "      <th>1</th>\n",
       "      <td>Fornecedor B</td>\n",
       "      <td>1.65</td>\n",
       "      <td>40</td>\n",
       "      <td>7</td>\n",
       "      <td>31000</td>\n",
       "      <td>7</td>\n",
       "      <td>8</td>\n",
       "      <td>334</td>\n",
       "    </tr>\n",
       "    <tr>\n",
       "      <th>2</th>\n",
       "      <td>Fornecedor C</td>\n",
       "      <td>1.27</td>\n",
       "      <td>20</td>\n",
       "      <td>9</td>\n",
       "      <td>45000</td>\n",
       "      <td>9</td>\n",
       "      <td>6</td>\n",
       "      <td>227</td>\n",
       "    </tr>\n",
       "    <tr>\n",
       "      <th>3</th>\n",
       "      <td>Fornecedor D</td>\n",
       "      <td>1.77</td>\n",
       "      <td>25</td>\n",
       "      <td>7</td>\n",
       "      <td>50000</td>\n",
       "      <td>8</td>\n",
       "      <td>8</td>\n",
       "      <td>550</td>\n",
       "    </tr>\n",
       "  </tbody>\n",
       "</table>\n",
       "</div>"
      ],
      "text/plain": [
       "   Alternativas  Preço (R$)  Prazo de Entrega (Dias)  Habilidade Técnica  \\\n",
       "0  Fornecedor A        1.20                       25                   8   \n",
       "1  Fornecedor B        1.65                       40                   7   \n",
       "2  Fornecedor C        1.27                       20                   9   \n",
       "3  Fornecedor D        1.77                       25                   7   \n",
       "\n",
       "   Capacidade Produtiva  Confiabilidade  Pós-Venda  Localização (KM)  \n",
       "0                 58000               7          5              1126  \n",
       "1                 31000               7          8               334  \n",
       "2                 45000               9          6               227  \n",
       "3                 50000               8          8               550  "
      ]
     },
     "execution_count": 3,
     "metadata": {},
     "output_type": "execute_result"
    }
   ],
   "source": [
    "# Pesos dos critérios \n",
    "w = [0.18, 0.20, 0.10, 0.20, 0.12, 0.05, 0.15]\n",
    "\n",
    "# Matriz de decisão  \n",
    "d = {'Alternativas': ['Fornecedor A', 'Fornecedor B', 'Fornecedor C', 'Fornecedor D'],\n",
    "     'Preço (R$)': [1.20, 1.65, 1.27, 1.77],\n",
    "     'Prazo de Entrega (Dias)': [25, 40, 20, 25], \n",
    "     'Habilidade Técnica': [8, 7, 9, 7], \n",
    "     'Capacidade Produtiva': [58000, 31000, 45000, 50000], \n",
    "     'Confiabilidade': [7, 7, 9, 8], \n",
    "     'Pós-Venda': [5, 8, 6, 8],\n",
    "     'Localização (KM)': [1126, 334, 227, 550]   \n",
    "    }\n",
    "\n",
    "df = pd.DataFrame(data=d)\n",
    "df"
   ]
  },
  {
   "cell_type": "code",
   "execution_count": 4,
   "metadata": {
    "hidden": true
   },
   "outputs": [
    {
     "data": {
      "text/plain": [
       "Index(['Alternativas', 'Preço (R$)', 'Prazo de Entrega (Dias)',\n",
       "       'Habilidade Técnica', 'Capacidade Produtiva', 'Confiabilidade',\n",
       "       'Pós-Venda', 'Localização (KM)'],\n",
       "      dtype='object')"
      ]
     },
     "execution_count": 4,
     "metadata": {},
     "output_type": "execute_result"
    }
   ],
   "source": [
    "df.columns"
   ]
  },
  {
   "cell_type": "code",
   "execution_count": 5,
   "metadata": {
    "hidden": true
   },
   "outputs": [
    {
     "data": {
      "text/html": [
       "<div>\n",
       "<style scoped>\n",
       "    .dataframe tbody tr th:only-of-type {\n",
       "        vertical-align: middle;\n",
       "    }\n",
       "\n",
       "    .dataframe tbody tr th {\n",
       "        vertical-align: top;\n",
       "    }\n",
       "\n",
       "    .dataframe thead th {\n",
       "        text-align: right;\n",
       "    }\n",
       "</style>\n",
       "<table border=\"1\" class=\"dataframe\">\n",
       "  <thead>\n",
       "    <tr style=\"text-align: right;\">\n",
       "      <th></th>\n",
       "      <th>1°</th>\n",
       "      <th>2°</th>\n",
       "      <th>3°</th>\n",
       "      <th>4°</th>\n",
       "    </tr>\n",
       "  </thead>\n",
       "  <tbody>\n",
       "    <tr>\n",
       "      <th>Preço (R$)</th>\n",
       "      <td>Fornecedor A</td>\n",
       "      <td>Fornecedor C</td>\n",
       "      <td>Fornecedor B</td>\n",
       "      <td>Fornecedor D</td>\n",
       "    </tr>\n",
       "    <tr>\n",
       "      <th>Prazo de Entrega (Dias)</th>\n",
       "      <td>Fornecedor C</td>\n",
       "      <td>Fornecedor A</td>\n",
       "      <td>Fornecedor D</td>\n",
       "      <td>Fornecedor B</td>\n",
       "    </tr>\n",
       "    <tr>\n",
       "      <th>Habilidade Técnica</th>\n",
       "      <td>Fornecedor C</td>\n",
       "      <td>Fornecedor A</td>\n",
       "      <td>Fornecedor B</td>\n",
       "      <td>Fornecedor D</td>\n",
       "    </tr>\n",
       "    <tr>\n",
       "      <th>Capacidade Produtiva</th>\n",
       "      <td>Fornecedor A</td>\n",
       "      <td>Fornecedor D</td>\n",
       "      <td>Fornecedor C</td>\n",
       "      <td>Fornecedor B</td>\n",
       "    </tr>\n",
       "    <tr>\n",
       "      <th>Confiabilidade</th>\n",
       "      <td>Fornecedor C</td>\n",
       "      <td>Fornecedor D</td>\n",
       "      <td>Fornecedor A</td>\n",
       "      <td>Fornecedor B</td>\n",
       "    </tr>\n",
       "    <tr>\n",
       "      <th>Pós-Venda</th>\n",
       "      <td>Fornecedor B</td>\n",
       "      <td>Fornecedor D</td>\n",
       "      <td>Fornecedor C</td>\n",
       "      <td>Fornecedor A</td>\n",
       "    </tr>\n",
       "    <tr>\n",
       "      <th>Localização (KM)</th>\n",
       "      <td>Fornecedor C</td>\n",
       "      <td>Fornecedor B</td>\n",
       "      <td>Fornecedor D</td>\n",
       "      <td>Fornecedor A</td>\n",
       "    </tr>\n",
       "  </tbody>\n",
       "</table>\n",
       "</div>"
      ],
      "text/plain": [
       "                                   1°            2°            3°  \\\n",
       "Preço (R$)               Fornecedor A  Fornecedor C  Fornecedor B   \n",
       "Prazo de Entrega (Dias)  Fornecedor C  Fornecedor A  Fornecedor D   \n",
       "Habilidade Técnica       Fornecedor C  Fornecedor A  Fornecedor B   \n",
       "Capacidade Produtiva     Fornecedor A  Fornecedor D  Fornecedor C   \n",
       "Confiabilidade           Fornecedor C  Fornecedor D  Fornecedor A   \n",
       "Pós-Venda                Fornecedor B  Fornecedor D  Fornecedor C   \n",
       "Localização (KM)         Fornecedor C  Fornecedor B  Fornecedor D   \n",
       "\n",
       "                                   4°  \n",
       "Preço (R$)               Fornecedor D  \n",
       "Prazo de Entrega (Dias)  Fornecedor B  \n",
       "Habilidade Técnica       Fornecedor D  \n",
       "Capacidade Produtiva     Fornecedor B  \n",
       "Confiabilidade           Fornecedor B  \n",
       "Pós-Venda                Fornecedor A  \n",
       "Localização (KM)         Fornecedor A  "
      ]
     },
     "execution_count": 5,
     "metadata": {},
     "output_type": "execute_result"
    }
   ],
   "source": [
    "ordenar = []\n",
    "for i in list(df.columns)[1:]:\n",
    "    if (i == 'Preço (R$)') | (i == 'Prazo de Entrega (Dias)') | (i == 'Localização (KM)'):\n",
    "        ordenar.append(list(df.sort_values([i])['Alternativas']))\n",
    "    else:\n",
    "        ordenar.append(list(df.sort_values([i], ascending=False)['Alternativas']))\n",
    "final = pd.DataFrame(data=ordenar, columns=['1°', '2°', '3°', '4°'], index=list(df.columns)[1:])\n",
    "final"
   ]
  },
  {
   "cell_type": "code",
   "execution_count": 6,
   "metadata": {
    "hidden": true
   },
   "outputs": [],
   "source": [
    "comparacao = pd.DataFrame({'Alternativa': ['Fornecedor A', 'Fornecedor B', 'Fornecedor C', 'Fornecedor D']})\n",
    "for j in ['1°', '2°', '3°', '4°']:\n",
    "    b = pd.DataFrame(dict(final.groupby([j]).size()), index=[0]).T\n",
    "    b.reset_index(inplace=True)\n",
    "    b.rename(columns={0:j, 'index': 'Alternativa'}, inplace=True)\n",
    "    comparacao = comparacao.merge(b, how='outer', on='Alternativa')\n",
    "comparacao.fillna(0, inplace=True)\n",
    "comparacao = round(comparacao[['1°', '2°', '3°', '4°']]/7, 2)\n",
    "comparacao['Alternativa'] = ['Fornecedor A', 'Fornecedor B', 'Fornecedor C', 'Fornecedor D']\n",
    "comparacao = comparacao[['Alternativa','1°', '2°', '3°', '4°']]"
   ]
  },
  {
   "cell_type": "code",
   "execution_count": 7,
   "metadata": {
    "hidden": true
   },
   "outputs": [
    {
     "data": {
      "text/html": [
       "<div>\n",
       "<style scoped>\n",
       "    .dataframe tbody tr th:only-of-type {\n",
       "        vertical-align: middle;\n",
       "    }\n",
       "\n",
       "    .dataframe tbody tr th {\n",
       "        vertical-align: top;\n",
       "    }\n",
       "\n",
       "    .dataframe thead th {\n",
       "        text-align: right;\n",
       "    }\n",
       "</style>\n",
       "<table border=\"1\" class=\"dataframe\">\n",
       "  <thead>\n",
       "    <tr style=\"text-align: right;\">\n",
       "      <th></th>\n",
       "      <th>Alternativa</th>\n",
       "      <th>1°</th>\n",
       "      <th>2°</th>\n",
       "      <th>3°</th>\n",
       "      <th>4°</th>\n",
       "    </tr>\n",
       "  </thead>\n",
       "  <tbody>\n",
       "    <tr>\n",
       "      <th>0</th>\n",
       "      <td>Fornecedor A</td>\n",
       "      <td>0.29</td>\n",
       "      <td>0.29</td>\n",
       "      <td>0.14</td>\n",
       "      <td>0.29</td>\n",
       "    </tr>\n",
       "    <tr>\n",
       "      <th>1</th>\n",
       "      <td>Fornecedor B</td>\n",
       "      <td>0.14</td>\n",
       "      <td>0.14</td>\n",
       "      <td>0.29</td>\n",
       "      <td>0.43</td>\n",
       "    </tr>\n",
       "    <tr>\n",
       "      <th>2</th>\n",
       "      <td>Fornecedor C</td>\n",
       "      <td>0.57</td>\n",
       "      <td>0.14</td>\n",
       "      <td>0.29</td>\n",
       "      <td>0.00</td>\n",
       "    </tr>\n",
       "    <tr>\n",
       "      <th>3</th>\n",
       "      <td>Fornecedor D</td>\n",
       "      <td>0.00</td>\n",
       "      <td>0.43</td>\n",
       "      <td>0.29</td>\n",
       "      <td>0.29</td>\n",
       "    </tr>\n",
       "  </tbody>\n",
       "</table>\n",
       "</div>"
      ],
      "text/plain": [
       "    Alternativa    1°    2°    3°    4°\n",
       "0  Fornecedor A  0.29  0.29  0.14  0.29\n",
       "1  Fornecedor B  0.14  0.14  0.29  0.43\n",
       "2  Fornecedor C  0.57  0.14  0.29  0.00\n",
       "3  Fornecedor D  0.00  0.43  0.29  0.29"
      ]
     },
     "execution_count": 7,
     "metadata": {},
     "output_type": "execute_result"
    }
   ],
   "source": [
    "comparacao"
   ]
  },
  {
   "cell_type": "markdown",
   "metadata": {
    "hidden": true
   },
   "source": [
    "Utilizado esse método para o ordenamento dos Fornecedores sem nenhuma aplicação de métodos MCDA a ordem escolhida foi Fornecedor C > Fornecedor A > Fornecedor D > Fornecedor B.\n",
    "\n",
    "O Fornecedor A,primeiro colocado no ordenamento, ficou 0,57 dos critérios em 1° lugar e 0,14 em 2° lugar, e apresentou boa colocação para critérios mais importante. O Fornecedor A ficou na segunda colocação do ordenamento, além de apresentar 0,29 dos critérios em 1° lugar e 0,29 em 2° lugar o fator que determinou sua classificação no ordenamento foi o peso dos critérios, desse modo deixando o Fornecedor D em terceira colocação no ordenamento. Já o Fornecedor B foi na quarta posição do ordenamento devido a pior colcação dos critérios com 0.43 e menos relevância com os critérios com mais pesos."
   ]
  },
  {
   "cell_type": "markdown",
   "metadata": {},
   "source": [
    "#  MAVT: Multi-Atribute Value Theory"
   ]
  },
  {
   "cell_type": "markdown",
   "metadata": {},
   "source": [
    "\n",
    "## Hipóteses em MAVT:\n",
    "* Oproblema envolve um conjunto finito de alternativas que são avaliadas de forma **determinística** em relação à um conjunto finito de critérios\n",
    "\n",
    "* Há um caráter compensatório entre os critérios\n",
    "\n",
    "\n",
    "## Propriedades dos critérios\n",
    "\n",
    "### i) Compreensíveis\n",
    "> As consequências de cada escolha são fáceis de serem compreendidas pelo decisor.\n",
    "\n",
    "### ii) Mensuráveis:\n",
    "> Associamos um valor a cada critério\n",
    "\n",
    "### iii) Completude\n",
    "> São suficientes para representar o problema \n",
    "\n",
    "### iv) Tamanho Mínimo\n",
    "> Muitos critérios podem confundir o decisor \n",
    "\n",
    "### v) Não-Redundantes(Estatisticamente indepedentes)\n",
    "> Evitar \"somar duas vezes\" a mesma consequência"
   ]
  },
  {
   "cell_type": "markdown",
   "metadata": {},
   "source": [
    "\n",
    "## Normalização de matriz de decisão \n",
    "\n",
    "Antes de proceder a agregação das alternativas, a matriz de decisão (𝐷) deve ser normalizada, de modo a obter-se\n",
    "uma matriz (𝑋), cujas entradas estejam no intervalo [0,1] e representem as respectivas contribuições marginais de\n",
    "valor relativa a cada avaliação.\n",
    "\n",
    "A normalização geralmente é feita com base em numa escala de máximo e mínimo, mas pode admitir qualquer função\n",
    "de valor que mapeie o intervalo de avaliação das alternativas no intervalo [0,1].\n",
    "\n",
    "O processo de normalização também é utilizado para se fazer o ajuste de direção dos critérios\n",
    "* Nos critérios de maximização (max), ou de benefício, quanto maior a avaliação mais perto de 1 deve ser a valor\n",
    "marginal.\n",
    "\n",
    "* Nos critérios de minimização (min), ou de custo, quanto maior a avaliação mais perto de 0 deve ser a valor\n",
    "marginal."
   ]
  },
  {
   "cell_type": "markdown",
   "metadata": {},
   "source": [
    "\n",
    "# Tipos de Normalização \n",
    "\n",
    "## Normalização pelo Máximo\n",
    "\n",
    "> $x_{ij} = \\frac{d_{ij}}{\\underset{i}{max(d_{ij})}}$, se o critério é MAX\n",
    "\n",
    "> $x_{ij} = \\frac{\\underset{i}{max(d_{ij})}}{d_{ij}}$, se o critério é MIN\n",
    "\n",
    "## Exemplo"
   ]
  },
  {
   "cell_type": "code",
   "execution_count": 8,
   "metadata": {},
   "outputs": [
    {
     "data": {
      "text/html": [
       "<div>\n",
       "<style scoped>\n",
       "    .dataframe tbody tr th:only-of-type {\n",
       "        vertical-align: middle;\n",
       "    }\n",
       "\n",
       "    .dataframe tbody tr th {\n",
       "        vertical-align: top;\n",
       "    }\n",
       "\n",
       "    .dataframe thead th {\n",
       "        text-align: right;\n",
       "    }\n",
       "</style>\n",
       "<table border=\"1\" class=\"dataframe\">\n",
       "  <thead>\n",
       "    <tr style=\"text-align: right;\">\n",
       "      <th></th>\n",
       "      <th>Alternativas</th>\n",
       "      <th>Valorização (%a.a.)</th>\n",
       "      <th>Risco</th>\n",
       "      <th>Dividendos(%a.a)</th>\n",
       "      <th>Liquidez (D+)</th>\n",
       "    </tr>\n",
       "  </thead>\n",
       "  <tbody>\n",
       "    <tr>\n",
       "      <th>0</th>\n",
       "      <td>Fundo de Investimento Imobiliário</td>\n",
       "      <td>10</td>\n",
       "      <td>2</td>\n",
       "      <td>8</td>\n",
       "      <td>2</td>\n",
       "    </tr>\n",
       "    <tr>\n",
       "      <th>1</th>\n",
       "      <td>Bitcoin</td>\n",
       "      <td>50</td>\n",
       "      <td>5</td>\n",
       "      <td>0</td>\n",
       "      <td>0</td>\n",
       "    </tr>\n",
       "    <tr>\n",
       "      <th>2</th>\n",
       "      <td>Ações</td>\n",
       "      <td>20</td>\n",
       "      <td>4</td>\n",
       "      <td>5</td>\n",
       "      <td>2</td>\n",
       "    </tr>\n",
       "    <tr>\n",
       "      <th>3</th>\n",
       "      <td>Tesouro (Selic)</td>\n",
       "      <td>5</td>\n",
       "      <td>1</td>\n",
       "      <td>0</td>\n",
       "      <td>0</td>\n",
       "    </tr>\n",
       "    <tr>\n",
       "      <th>4</th>\n",
       "      <td>Fundo de Investimento</td>\n",
       "      <td>15</td>\n",
       "      <td>3</td>\n",
       "      <td>0</td>\n",
       "      <td>5</td>\n",
       "    </tr>\n",
       "  </tbody>\n",
       "</table>\n",
       "</div>"
      ],
      "text/plain": [
       "                        Alternativas  Valorização (%a.a.)  Risco  \\\n",
       "0  Fundo de Investimento Imobiliário                   10      2   \n",
       "1                            Bitcoin                   50      5   \n",
       "2                              Ações                   20      4   \n",
       "3                    Tesouro (Selic)                    5      1   \n",
       "4              Fundo de Investimento                   15      3   \n",
       "\n",
       "   Dividendos(%a.a)  Liquidez (D+)  \n",
       "0                 8              2  \n",
       "1                 0              0  \n",
       "2                 5              2  \n",
       "3                 0              0  \n",
       "4                 0              5  "
      ]
     },
     "execution_count": 8,
     "metadata": {},
     "output_type": "execute_result"
    }
   ],
   "source": [
    "# Tabela apresentada \n",
    "d = {'Alternativas': ['Fundo de Investimento Imobiliário', 'Bitcoin', 'Ações', 'Tesouro (Selic)', 'Fundo de Investimento'],\n",
    "     'Valorização (%a.a.)': [10, 50, 20, 5, 15],\n",
    "     'Risco': [2, 5, 4, 1, 3], \n",
    "     'Dividendos(%a.a)': [8, 0, 5, 0, 0], \n",
    "     'Liquidez (D+)': [2, 0, 2, 0, 5], \n",
    "    }\n",
    "# Critério MAX e MIN\n",
    "crit_max = [True, False, True, False]\n",
    "# Pesos: w\n",
    "w = [0.20, 0.25, 0.40, 0.15]\n",
    "df = pd.DataFrame(data=d)\n",
    "df"
   ]
  },
  {
   "cell_type": "code",
   "execution_count": 9,
   "metadata": {},
   "outputs": [],
   "source": [
    "def norm_max(frame, crit):\n",
    "    # Matriz de decisão \n",
    "    decisao = np.array(frame[frame.columns[1:]]).T\n",
    "    \n",
    "    X = [] \n",
    "    # Percorre em i e vendo se o Critério é max ou min\n",
    "    for i, m in zip(decisao, crit_max):\n",
    "        # Armazenar o valores obtidos\n",
    "        c = []\n",
    "        # Encontrar valor de max e min\n",
    "        minimo = min(i)\n",
    "        maximo = max(i)\n",
    "        if m: # Se o critério for max\n",
    "            for j in i:\n",
    "                c.append(j/maximo)\n",
    "        else: # Se o critério for min\n",
    "            if minimo == 0: # Se o valor mínimo for igual a 0\n",
    "                for j in i:\n",
    "                    c.append(1-(j/maximo))\n",
    "            else: # Se o valor mínimo for diferente a 0\n",
    "                for j in i:\n",
    "                    c.append(minimo/j)\n",
    "        X.append(c)\n",
    "    X = np.transpose(X)\n",
    "    return X"
   ]
  },
  {
   "cell_type": "code",
   "execution_count": 10,
   "metadata": {},
   "outputs": [
    {
     "data": {
      "text/plain": [
       "array([[0.2       , 0.5       , 1.        , 0.6       ],\n",
       "       [1.        , 0.2       , 0.        , 1.        ],\n",
       "       [0.4       , 0.25      , 0.625     , 0.6       ],\n",
       "       [0.1       , 1.        , 0.        , 1.        ],\n",
       "       [0.3       , 0.33333333, 0.        , 0.        ]])"
      ]
     },
     "execution_count": 10,
     "metadata": {},
     "output_type": "execute_result"
    }
   ],
   "source": [
    "X = norm_max(frame=df, crit=crit_max)\n",
    "X"
   ]
  },
  {
   "cell_type": "markdown",
   "metadata": {},
   "source": [
    "\n",
    "## Normalização 0-1\n",
    "\n",
    "> $x_{ij} = \\frac{\\underset{i}{d_{ij}} - min(d_{ij})}\n",
    "{\\underset{i}{max(d_{ij})} - \\underset{i}{min(d_{ij})}}$, se o critério é MAX\n",
    "\n",
    "\n",
    "> $x_{ij} = \\frac{\\underset{i}{max(d_{ij})} - d_{ij}}\n",
    "{\\underset{i}{max(d_{ij})} - \\underset{i}{min(d_{ij})}}$, se o critério é MIN\n",
    "\n",
    "## Exemplo"
   ]
  },
  {
   "cell_type": "code",
   "execution_count": 11,
   "metadata": {},
   "outputs": [],
   "source": [
    "def norm_binario(frame, crit):\n",
    "    # Matriz de decisão \n",
    "    decisao = np.array(frame[frame.columns[1:]]).T\n",
    "    \n",
    "    X = []\n",
    "    for i, m in zip(decisao, crit):\n",
    "        # Armazenar o valores obtidos\n",
    "        c = []\n",
    "        # Encontrar valor de max e min\n",
    "        minimo = min(i)\n",
    "        maximo = max(i)\n",
    "        if m: # Se o critério for max\n",
    "            for j in i:\n",
    "                c.append((j-minimo)/(maximo-minimo))\n",
    "        else:  # Se o critério for Min\n",
    "            for j in i:\n",
    "                c.append((maximo-j)/(maximo-minimo))\n",
    "        X.append(c)\n",
    "    X = np.transpose(X)\n",
    "    return X"
   ]
  },
  {
   "cell_type": "code",
   "execution_count": 12,
   "metadata": {},
   "outputs": [
    {
     "data": {
      "text/plain": [
       "array([[0.11111111, 0.75      , 1.        , 0.6       ],\n",
       "       [1.        , 0.        , 0.        , 1.        ],\n",
       "       [0.33333333, 0.25      , 0.625     , 0.6       ],\n",
       "       [0.        , 1.        , 0.        , 1.        ],\n",
       "       [0.22222222, 0.5       , 0.        , 0.        ]])"
      ]
     },
     "execution_count": 12,
     "metadata": {},
     "output_type": "execute_result"
    }
   ],
   "source": [
    "X = norm_binario(frame=df, crit=crit_max)\n",
    "X"
   ]
  },
  {
   "cell_type": "markdown",
   "metadata": {},
   "source": [
    "\n",
    "## Normalização pela Soma\n",
    "\n",
    "> $ x_{ij} = \\frac{d_{ij}}{\\sum_{i}d_{ij}}$, se o critério é MAX\n",
    "\n",
    "> $ x_{ij} = 1 - \\frac{d_{ij}}{\\sum_{i}d_{ij}}$, se o critério é MIN\n",
    "\n",
    "## Exemplo"
   ]
  },
  {
   "cell_type": "code",
   "execution_count": 13,
   "metadata": {},
   "outputs": [],
   "source": [
    "def norm_soma(frame, crit):\n",
    "    # Matriz de decisão \n",
    "    decisao = np.array(frame[frame.columns[1:]]).T\n",
    "    \n",
    "    X = [] \n",
    "    for i, m in zip(decisao, crit):\n",
    "        # Armazenar o valores obtidos\n",
    "        c = []\n",
    "        # Encontrar valor de max e min\n",
    "        soma = sum(i)\n",
    "        if m: # Se o critério for max\n",
    "            for j in i:\n",
    "                c.append(j/soma)\n",
    "        else:  # Se o critério for Min\n",
    "            for j in i:\n",
    "                c.append(1-(j/soma))\n",
    "        X.append(c)\n",
    "    X = np.transpose(X)\n",
    "    return X"
   ]
  },
  {
   "cell_type": "code",
   "execution_count": 14,
   "metadata": {},
   "outputs": [
    {
     "data": {
      "text/plain": [
       "array([[0.1       , 0.86666667, 0.61538462, 0.77777778],\n",
       "       [0.5       , 0.66666667, 0.        , 1.        ],\n",
       "       [0.2       , 0.73333333, 0.38461538, 0.77777778],\n",
       "       [0.05      , 0.93333333, 0.        , 1.        ],\n",
       "       [0.15      , 0.8       , 0.        , 0.44444444]])"
      ]
     },
     "execution_count": 14,
     "metadata": {},
     "output_type": "execute_result"
    }
   ],
   "source": [
    "X = norm_soma(frame=df, crit=crit_max)\n",
    "X"
   ]
  },
  {
   "cell_type": "markdown",
   "metadata": {},
   "source": [
    "\n",
    "## Normalização Euclidiana\n",
    "\n",
    "> $ x_{ij} = \\frac{d_{ij}}{\\sqrt{\\sum_{i=i}^n(d_{ij})^2}}$, se o critério é MAX\n",
    "\n",
    "> $ x_{ij} = 1 - \\frac{d_{ij}}{\\sqrt{\\sum_{i=i}^n(d_{ij})^2}}$, se o critério é MIN\n",
    "\n",
    "## Exemplo"
   ]
  },
  {
   "cell_type": "code",
   "execution_count": 15,
   "metadata": {},
   "outputs": [],
   "source": [
    "def norm_euclidiana(frame, crit):\n",
    "    # Matriz de decisão \n",
    "    decisao = np.array(frame[frame.columns[1:]]).T\n",
    "    \n",
    "    X = [] \n",
    "    a = 0\n",
    "    for i, m in zip(decisao, crit):\n",
    "        # Armazenar o valores obtidos\n",
    "        c = []\n",
    "        # Encontrar valor de max e min\n",
    "        raiz = (sum(i*i)**(1/2))\n",
    "        if m: # Se o critério for max\n",
    "            for j in i:\n",
    "                c.append(j/raiz)\n",
    "        else:  # Se o critério for Min\n",
    "            for j in i:\n",
    "                c.append(1-(j/raiz))\n",
    "        X.append(c)\n",
    "    X = np.transpose(X)\n",
    "    return X"
   ]
  },
  {
   "cell_type": "code",
   "execution_count": 16,
   "metadata": {},
   "outputs": [
    {
     "data": {
      "text/plain": [
       "array([[0.1754116 , 0.73032006, 0.8479983 , 0.65184469],\n",
       "       [0.87705802, 0.32580014, 0.        , 1.        ],\n",
       "       [0.35082321, 0.46064011, 0.52999894, 0.65184469],\n",
       "       [0.0877058 , 0.86516003, 0.        , 1.        ],\n",
       "       [0.26311741, 0.59548008, 0.        , 0.12961172]])"
      ]
     },
     "execution_count": 16,
     "metadata": {},
     "output_type": "execute_result"
    }
   ],
   "source": [
    "X = norm_euclidiana(frame=df, crit=crit_max)\n",
    "X"
   ]
  },
  {
   "cell_type": "markdown",
   "metadata": {
    "heading_collapsed": true
   },
   "source": [
    "# Processo de Adaptação do pesos "
   ]
  },
  {
   "cell_type": "markdown",
   "metadata": {
    "hidden": true
   },
   "source": [
    "\n",
    "## Elicitação\n",
    "\n",
    "* Abordagem subjetiva, que depende de informações fornecidas pelo decisor.\n",
    "\n",
    "* Métodos:\n",
    "\n",
    "> Elicitação direta\n",
    "* O decisor indica um número para cada critério (entre 0 e 1, por exemplo), o qual indica a importância de cada critério.\n",
    "* Esses valores são normalizados (dividido pela soma) para encontrar os pesos\n",
    "\n",
    "> SMART\n",
    "* O decisor ordena os critérios do mais importante para o menos importante. O último (o menos importante) recebe o valor 10.\n",
    "* Em seguida, o decisor indica um valor, maior que 10, para o segundo critério menos importante.\n",
    "* O procedimento continua até atribuirmos valores a todos os critérios, sempre maior que o anterior. Por fim, normalizamos os pesos.\n",
    "\n",
    "## Adaptação baseada nos dados\n",
    "- Abordagem objetiva, que depende (apenas) da matriz de decisão.\n",
    "- Método:\n",
    "\n",
    "> Desvio padrão\n",
    "* A ideia é atribuir pesos maiores para critérios que “carreguem mais informação”, a qual é medida, aqui, pelo desvio padrão (𝜎𝑗):\n",
    "\n",
    "> CRITIC\n",
    "* A ideia é atribuir pesos maiores para critérios que “carreguem mais informação” e atenuar o efeito da redundância entre critérios."
   ]
  },
  {
   "cell_type": "markdown",
   "metadata": {
    "heading_collapsed": true
   },
   "source": [
    "# Saw:  Simple Additive Weighting – Média ponderada"
   ]
  },
  {
   "cell_type": "markdown",
   "metadata": {
    "hidden": true
   },
   "source": [
    "\n",
    "- Um dos mais simples e largamente utilizados métodos de agregação.\n",
    "- Agregação linear aditiva\n",
    "\n",
    "## Passo 1:\n",
    "Calcula-se o valor $v_i$ de cada alternativa $A_i$:\n",
    "$$v_i = \\sum_{j=1}^{k}x_{ij}w_{j}= 1$$\n",
    "\n",
    "## Passo 2:\n",
    "Ordena-se as alternativas de acordo com a ordenação crescente do vetor $v = [v_1, v_2 ..., v_n]$."
   ]
  },
  {
   "cell_type": "code",
   "execution_count": 17,
   "metadata": {
    "hidden": true
   },
   "outputs": [],
   "source": [
    "def saw(crit, peso, frame, norm=True):\n",
    "    # Verificar se o código já foi utilizado\n",
    "    primeira_col = frame.columns[0]\n",
    "    for i in frame.columns:\n",
    "        if i == 'Ordenamento_saw':\n",
    "            frame.drop(columns=['Ordenamento_saw'], inplace=True)\n",
    "        if i == 'Ordenamento_topsis':\n",
    "            frame.drop(columns=['Ordenamento_topsis'], inplace=True)\n",
    "        else:\n",
    "            pass\n",
    "    if norm:\n",
    "        # Matriz de Decisão: X\n",
    "        X = norm_binario(frame=frame, crit=crit)\n",
    "    else:\n",
    "        X = np.array(frame[frame.columns[1:]])\n",
    "\n",
    "    v = []\n",
    "    # Passo 1\n",
    "    for k in X:\n",
    "        v.append(round(sum(k*peso), 2))\n",
    "    \n",
    "    # Passo 2:\n",
    "    frame['Ordenamento_saw'] = v\n",
    "    final = list(frame.sort_values(by='Ordenamento_saw', ascending=False)[primeira_col])\n",
    "    ordem = 1\n",
    "    for x in final:\n",
    "        print(f'{ordem}°', x)\n",
    "        ordem += 1\n",
    "    return frame"
   ]
  },
  {
   "cell_type": "code",
   "execution_count": 18,
   "metadata": {
    "hidden": true
   },
   "outputs": [
    {
     "name": "stdout",
     "output_type": "stream",
     "text": [
      "1° Fundo de Investimento Imobiliário\n",
      "2° Ações\n",
      "3° Tesouro (Selic)\n",
      "4° Bitcoin\n",
      "5° Fundo de Investimento\n"
     ]
    },
    {
     "data": {
      "text/html": [
       "<div>\n",
       "<style scoped>\n",
       "    .dataframe tbody tr th:only-of-type {\n",
       "        vertical-align: middle;\n",
       "    }\n",
       "\n",
       "    .dataframe tbody tr th {\n",
       "        vertical-align: top;\n",
       "    }\n",
       "\n",
       "    .dataframe thead th {\n",
       "        text-align: right;\n",
       "    }\n",
       "</style>\n",
       "<table border=\"1\" class=\"dataframe\">\n",
       "  <thead>\n",
       "    <tr style=\"text-align: right;\">\n",
       "      <th></th>\n",
       "      <th>Alternativas</th>\n",
       "      <th>Valorização (%a.a.)</th>\n",
       "      <th>Risco</th>\n",
       "      <th>Dividendos(%a.a)</th>\n",
       "      <th>Liquidez (D+)</th>\n",
       "      <th>Ordenamento_saw</th>\n",
       "    </tr>\n",
       "  </thead>\n",
       "  <tbody>\n",
       "    <tr>\n",
       "      <th>0</th>\n",
       "      <td>Fundo de Investimento Imobiliário</td>\n",
       "      <td>10</td>\n",
       "      <td>2</td>\n",
       "      <td>8</td>\n",
       "      <td>2</td>\n",
       "      <td>0.70</td>\n",
       "    </tr>\n",
       "    <tr>\n",
       "      <th>1</th>\n",
       "      <td>Bitcoin</td>\n",
       "      <td>50</td>\n",
       "      <td>5</td>\n",
       "      <td>0</td>\n",
       "      <td>0</td>\n",
       "      <td>0.35</td>\n",
       "    </tr>\n",
       "    <tr>\n",
       "      <th>2</th>\n",
       "      <td>Ações</td>\n",
       "      <td>20</td>\n",
       "      <td>4</td>\n",
       "      <td>5</td>\n",
       "      <td>2</td>\n",
       "      <td>0.47</td>\n",
       "    </tr>\n",
       "    <tr>\n",
       "      <th>3</th>\n",
       "      <td>Tesouro (Selic)</td>\n",
       "      <td>5</td>\n",
       "      <td>1</td>\n",
       "      <td>0</td>\n",
       "      <td>0</td>\n",
       "      <td>0.40</td>\n",
       "    </tr>\n",
       "    <tr>\n",
       "      <th>4</th>\n",
       "      <td>Fundo de Investimento</td>\n",
       "      <td>15</td>\n",
       "      <td>3</td>\n",
       "      <td>0</td>\n",
       "      <td>5</td>\n",
       "      <td>0.17</td>\n",
       "    </tr>\n",
       "  </tbody>\n",
       "</table>\n",
       "</div>"
      ],
      "text/plain": [
       "                        Alternativas  Valorização (%a.a.)  Risco  \\\n",
       "0  Fundo de Investimento Imobiliário                   10      2   \n",
       "1                            Bitcoin                   50      5   \n",
       "2                              Ações                   20      4   \n",
       "3                    Tesouro (Selic)                    5      1   \n",
       "4              Fundo de Investimento                   15      3   \n",
       "\n",
       "   Dividendos(%a.a)  Liquidez (D+)  Ordenamento_saw  \n",
       "0                 8              2             0.70  \n",
       "1                 0              0             0.35  \n",
       "2                 5              2             0.47  \n",
       "3                 0              0             0.40  \n",
       "4                 0              5             0.17  "
      ]
     },
     "execution_count": 18,
     "metadata": {},
     "output_type": "execute_result"
    }
   ],
   "source": [
    "df = saw(crit=crit_max, peso=w, frame=df)\n",
    "df"
   ]
  },
  {
   "cell_type": "markdown",
   "metadata": {
    "heading_collapsed": true
   },
   "source": [
    "# TOPSIS: Technique for Order of Preference by Similarity to Ideal Solution"
   ]
  },
  {
   "cell_type": "code",
   "execution_count": 19,
   "metadata": {
    "hidden": true
   },
   "outputs": [],
   "source": [
    "def topsis(crit, peso, frame):\n",
    "    # Verificar se o código já foi utilizado\n",
    "    primeira_col = frame.columns[0]\n",
    "    for i in frame.columns: \n",
    "        if i == 'Ordenamento_saw':\n",
    "            frame.drop(columns=['Ordenamento_saw'], inplace=True)\n",
    "        if i == 'Ordenamento_topsis':\n",
    "            frame.drop(columns=['Ordenamento_topsis'], inplace=True)\n",
    "        else:\n",
    "            pass\n",
    "    \n",
    "    # Passo 1: Calcular a matriz de decisão normalizada (normalização Euclidiana) \n",
    "    X = norm_euclidiana(frame=frame, crit=crit)\n",
    "    \n",
    "    # Passo 2: Calcular a matriz normalizada ponderada pelos pesos w\n",
    "    v = []\n",
    "    for i in X:\n",
    "        v.append(i*peso)\n",
    "    v = np.array(v)\n",
    "    v = np.transpose(v)\n",
    "    \n",
    "    # Passo 3: Definir uma alternativa ideal positiva A+ e uma alternativa negativa A-\n",
    "    A_positivo = []\n",
    "    A_negativo = []\n",
    "    for j in v:\n",
    "        A_positivo.append(max(j))\n",
    "        A_negativo.append(min(j))\n",
    "    v = np.transpose(v)\n",
    "    \n",
    "    # Passo 4: Calcular as distâncias d+ e d- de ad alternativa para as as alternativas ideias \n",
    "    d_positivo = []\n",
    "    d_negativo = []\n",
    "    for jj in v:\n",
    "        d_positivo.append(distance.euclidean(jj, A_positivo))\n",
    "        d_negativo.append(distance.euclidean(jj, A_negativo))\n",
    "    \n",
    "    # Passo 5: O valor de cada alternativa é dado por r\n",
    "    r = []\n",
    "    for ii in range(len(d_negativo)):\n",
    "        r.append(d_negativo[ii]/(d_negativo[ii]+ d_positivo[ii]))\n",
    "    \n",
    "    # Passo 6 Odenar as alternativas de acordo com os índeces da ordenação crescente do valor r\n",
    "    frame['Ordenamento_topsis'] = r\n",
    "    final = list(frame.sort_values(by='Ordenamento_topsis', ascending=False)[primeira_col])\n",
    "    ordem = 1\n",
    "    for x in final:\n",
    "        print(f'{ordem}° Lugar -->', x)\n",
    "        ordem += 1\n",
    "    return frame"
   ]
  },
  {
   "cell_type": "code",
   "execution_count": 20,
   "metadata": {
    "hidden": true
   },
   "outputs": [
    {
     "name": "stdout",
     "output_type": "stream",
     "text": [
      "1° Lugar --> Fundo de Investimento Imobiliário\n",
      "2° Lugar --> Ações\n",
      "3° Lugar --> Bitcoin\n",
      "4° Lugar --> Tesouro (Selic)\n",
      "5° Lugar --> Fundo de Investimento\n"
     ]
    },
    {
     "data": {
      "text/html": [
       "<div>\n",
       "<style scoped>\n",
       "    .dataframe tbody tr th:only-of-type {\n",
       "        vertical-align: middle;\n",
       "    }\n",
       "\n",
       "    .dataframe tbody tr th {\n",
       "        vertical-align: top;\n",
       "    }\n",
       "\n",
       "    .dataframe thead th {\n",
       "        text-align: right;\n",
       "    }\n",
       "</style>\n",
       "<table border=\"1\" class=\"dataframe\">\n",
       "  <thead>\n",
       "    <tr style=\"text-align: right;\">\n",
       "      <th></th>\n",
       "      <th>Alternativas</th>\n",
       "      <th>Valorização (%a.a.)</th>\n",
       "      <th>Risco</th>\n",
       "      <th>Dividendos(%a.a)</th>\n",
       "      <th>Liquidez (D+)</th>\n",
       "      <th>Ordenamento_topsis</th>\n",
       "    </tr>\n",
       "  </thead>\n",
       "  <tbody>\n",
       "    <tr>\n",
       "      <th>0</th>\n",
       "      <td>Fundo de Investimento Imobiliário</td>\n",
       "      <td>10</td>\n",
       "      <td>2</td>\n",
       "      <td>8</td>\n",
       "      <td>2</td>\n",
       "      <td>0.702802</td>\n",
       "    </tr>\n",
       "    <tr>\n",
       "      <th>1</th>\n",
       "      <td>Bitcoin</td>\n",
       "      <td>50</td>\n",
       "      <td>5</td>\n",
       "      <td>0</td>\n",
       "      <td>0</td>\n",
       "      <td>0.359483</td>\n",
       "    </tr>\n",
       "    <tr>\n",
       "      <th>2</th>\n",
       "      <td>Ações</td>\n",
       "      <td>20</td>\n",
       "      <td>4</td>\n",
       "      <td>5</td>\n",
       "      <td>2</td>\n",
       "      <td>0.539036</td>\n",
       "    </tr>\n",
       "    <tr>\n",
       "      <th>3</th>\n",
       "      <td>Tesouro (Selic)</td>\n",
       "      <td>5</td>\n",
       "      <td>1</td>\n",
       "      <td>0</td>\n",
       "      <td>0</td>\n",
       "      <td>0.334069</td>\n",
       "    </tr>\n",
       "    <tr>\n",
       "      <th>4</th>\n",
       "      <td>Fundo de Investimento</td>\n",
       "      <td>15</td>\n",
       "      <td>3</td>\n",
       "      <td>0</td>\n",
       "      <td>5</td>\n",
       "      <td>0.163262</td>\n",
       "    </tr>\n",
       "  </tbody>\n",
       "</table>\n",
       "</div>"
      ],
      "text/plain": [
       "                        Alternativas  Valorização (%a.a.)  Risco  \\\n",
       "0  Fundo de Investimento Imobiliário                   10      2   \n",
       "1                            Bitcoin                   50      5   \n",
       "2                              Ações                   20      4   \n",
       "3                    Tesouro (Selic)                    5      1   \n",
       "4              Fundo de Investimento                   15      3   \n",
       "\n",
       "   Dividendos(%a.a)  Liquidez (D+)  Ordenamento_topsis  \n",
       "0                 8              2            0.702802  \n",
       "1                 0              0            0.359483  \n",
       "2                 5              2            0.539036  \n",
       "3                 0              0            0.334069  \n",
       "4                 0              5            0.163262  "
      ]
     },
     "execution_count": 20,
     "metadata": {},
     "output_type": "execute_result"
    }
   ],
   "source": [
    "df = topsis(crit=crit_max, peso=w, frame=df)\n",
    "df"
   ]
  },
  {
   "cell_type": "markdown",
   "metadata": {
    "heading_collapsed": true
   },
   "source": [
    "# Atividade 2"
   ]
  },
  {
   "cell_type": "markdown",
   "metadata": {
    "hidden": true
   },
   "source": [
    "## Parte 1"
   ]
  },
  {
   "cell_type": "markdown",
   "metadata": {
    "hidden": true
   },
   "source": [
    "\n",
    "### (i) Escolha dois méodos de normalização,sendo um deles a Euclidiana, e normalize os dados;"
   ]
  },
  {
   "cell_type": "code",
   "execution_count": 25,
   "metadata": {
    "hidden": true
   },
   "outputs": [],
   "source": [
    "# Tabela apresentada \n",
    "d = {'Alternativas': ['Fundo de Investimento Imobiliário', 'Bitcoin', 'Ações', 'Tesouro (Selic)', 'Fundo de Investimento'],\n",
    "     'Valorização (%a.a.)': [10, 50, 20, 5, 15],\n",
    "     'Risco': [2, 5, 4, 1, 3], \n",
    "     'Dividendos(%a.a)': [8, 0, 5, 0, 0], \n",
    "     'Liquidez (D+)': [2, 0, 2, 0, 5], \n",
    "    }\n",
    "# Critério\n",
    "crit_max = [True, False, True, False]\n",
    "df = pd.DataFrame(data=d)\n",
    "# Pesos: w\n",
    "w = [0.20, 0.25, 0.40, 0.15]"
   ]
  },
  {
   "cell_type": "code",
   "execution_count": 26,
   "metadata": {
    "hidden": true
   },
   "outputs": [
    {
     "data": {
      "text/plain": [
       "array([[0.11111111, 0.75      , 1.        , 0.6       ],\n",
       "       [1.        , 0.        , 0.        , 1.        ],\n",
       "       [0.33333333, 0.25      , 0.625     , 0.6       ],\n",
       "       [0.        , 1.        , 0.        , 1.        ],\n",
       "       [0.22222222, 0.5       , 0.        , 0.        ]])"
      ]
     },
     "execution_count": 26,
     "metadata": {},
     "output_type": "execute_result"
    }
   ],
   "source": [
    "# Matriz de Decisão: X\n",
    "X = norm_binario(frame=df, crit=crit_max)\n",
    "X"
   ]
  },
  {
   "cell_type": "code",
   "execution_count": 27,
   "metadata": {
    "hidden": true
   },
   "outputs": [
    {
     "data": {
      "text/plain": [
       "array([[0.1754116 , 0.73032006, 0.8479983 , 0.65184469],\n",
       "       [0.87705802, 0.32580014, 0.        , 1.        ],\n",
       "       [0.35082321, 0.46064011, 0.52999894, 0.65184469],\n",
       "       [0.0877058 , 0.86516003, 0.        , 1.        ],\n",
       "       [0.26311741, 0.59548008, 0.        , 0.12961172]])"
      ]
     },
     "execution_count": 27,
     "metadata": {},
     "output_type": "execute_result"
    }
   ],
   "source": [
    "X = norm_euclidiana(frame=df, crit=crit_max)\n",
    "X"
   ]
  },
  {
   "cell_type": "markdown",
   "metadata": {
    "hidden": true
   },
   "source": [
    "\n",
    "### (ii) Aplique os métodos SAW eTOPSIS em ambas as matrizes de decisão normalizadas;"
   ]
  },
  {
   "cell_type": "code",
   "execution_count": 28,
   "metadata": {
    "hidden": true
   },
   "outputs": [
    {
     "name": "stdout",
     "output_type": "stream",
     "text": [
      "1° Fundo de Investimento Imobiliário\n",
      "2° Ações\n",
      "3° Tesouro (Selic)\n",
      "4° Bitcoin\n",
      "5° Fundo de Investimento\n"
     ]
    },
    {
     "data": {
      "text/html": [
       "<div>\n",
       "<style scoped>\n",
       "    .dataframe tbody tr th:only-of-type {\n",
       "        vertical-align: middle;\n",
       "    }\n",
       "\n",
       "    .dataframe tbody tr th {\n",
       "        vertical-align: top;\n",
       "    }\n",
       "\n",
       "    .dataframe thead th {\n",
       "        text-align: right;\n",
       "    }\n",
       "</style>\n",
       "<table border=\"1\" class=\"dataframe\">\n",
       "  <thead>\n",
       "    <tr style=\"text-align: right;\">\n",
       "      <th></th>\n",
       "      <th>Alternativas</th>\n",
       "      <th>Valorização (%a.a.)</th>\n",
       "      <th>Risco</th>\n",
       "      <th>Dividendos(%a.a)</th>\n",
       "      <th>Liquidez (D+)</th>\n",
       "      <th>Ordenamento_saw</th>\n",
       "    </tr>\n",
       "  </thead>\n",
       "  <tbody>\n",
       "    <tr>\n",
       "      <th>0</th>\n",
       "      <td>Fundo de Investimento Imobiliário</td>\n",
       "      <td>10</td>\n",
       "      <td>2</td>\n",
       "      <td>8</td>\n",
       "      <td>2</td>\n",
       "      <td>0.70</td>\n",
       "    </tr>\n",
       "    <tr>\n",
       "      <th>1</th>\n",
       "      <td>Bitcoin</td>\n",
       "      <td>50</td>\n",
       "      <td>5</td>\n",
       "      <td>0</td>\n",
       "      <td>0</td>\n",
       "      <td>0.35</td>\n",
       "    </tr>\n",
       "    <tr>\n",
       "      <th>2</th>\n",
       "      <td>Ações</td>\n",
       "      <td>20</td>\n",
       "      <td>4</td>\n",
       "      <td>5</td>\n",
       "      <td>2</td>\n",
       "      <td>0.47</td>\n",
       "    </tr>\n",
       "    <tr>\n",
       "      <th>3</th>\n",
       "      <td>Tesouro (Selic)</td>\n",
       "      <td>5</td>\n",
       "      <td>1</td>\n",
       "      <td>0</td>\n",
       "      <td>0</td>\n",
       "      <td>0.40</td>\n",
       "    </tr>\n",
       "    <tr>\n",
       "      <th>4</th>\n",
       "      <td>Fundo de Investimento</td>\n",
       "      <td>15</td>\n",
       "      <td>3</td>\n",
       "      <td>0</td>\n",
       "      <td>5</td>\n",
       "      <td>0.17</td>\n",
       "    </tr>\n",
       "  </tbody>\n",
       "</table>\n",
       "</div>"
      ],
      "text/plain": [
       "                        Alternativas  Valorização (%a.a.)  Risco  \\\n",
       "0  Fundo de Investimento Imobiliário                   10      2   \n",
       "1                            Bitcoin                   50      5   \n",
       "2                              Ações                   20      4   \n",
       "3                    Tesouro (Selic)                    5      1   \n",
       "4              Fundo de Investimento                   15      3   \n",
       "\n",
       "   Dividendos(%a.a)  Liquidez (D+)  Ordenamento_saw  \n",
       "0                 8              2             0.70  \n",
       "1                 0              0             0.35  \n",
       "2                 5              2             0.47  \n",
       "3                 0              0             0.40  \n",
       "4                 0              5             0.17  "
      ]
     },
     "execution_count": 28,
     "metadata": {},
     "output_type": "execute_result"
    }
   ],
   "source": [
    "# Método SAW\n",
    "df = saw(crit=crit_max, peso=w, frame=df)\n",
    "df"
   ]
  },
  {
   "cell_type": "code",
   "execution_count": 29,
   "metadata": {
    "hidden": true
   },
   "outputs": [
    {
     "name": "stdout",
     "output_type": "stream",
     "text": [
      "1° Lugar --> Fundo de Investimento Imobiliário\n",
      "2° Lugar --> Ações\n",
      "3° Lugar --> Bitcoin\n",
      "4° Lugar --> Tesouro (Selic)\n",
      "5° Lugar --> Fundo de Investimento\n"
     ]
    },
    {
     "data": {
      "text/html": [
       "<div>\n",
       "<style scoped>\n",
       "    .dataframe tbody tr th:only-of-type {\n",
       "        vertical-align: middle;\n",
       "    }\n",
       "\n",
       "    .dataframe tbody tr th {\n",
       "        vertical-align: top;\n",
       "    }\n",
       "\n",
       "    .dataframe thead th {\n",
       "        text-align: right;\n",
       "    }\n",
       "</style>\n",
       "<table border=\"1\" class=\"dataframe\">\n",
       "  <thead>\n",
       "    <tr style=\"text-align: right;\">\n",
       "      <th></th>\n",
       "      <th>Alternativas</th>\n",
       "      <th>Valorização (%a.a.)</th>\n",
       "      <th>Risco</th>\n",
       "      <th>Dividendos(%a.a)</th>\n",
       "      <th>Liquidez (D+)</th>\n",
       "      <th>Ordenamento_topsis</th>\n",
       "    </tr>\n",
       "  </thead>\n",
       "  <tbody>\n",
       "    <tr>\n",
       "      <th>0</th>\n",
       "      <td>Fundo de Investimento Imobiliário</td>\n",
       "      <td>10</td>\n",
       "      <td>2</td>\n",
       "      <td>8</td>\n",
       "      <td>2</td>\n",
       "      <td>0.702802</td>\n",
       "    </tr>\n",
       "    <tr>\n",
       "      <th>1</th>\n",
       "      <td>Bitcoin</td>\n",
       "      <td>50</td>\n",
       "      <td>5</td>\n",
       "      <td>0</td>\n",
       "      <td>0</td>\n",
       "      <td>0.359483</td>\n",
       "    </tr>\n",
       "    <tr>\n",
       "      <th>2</th>\n",
       "      <td>Ações</td>\n",
       "      <td>20</td>\n",
       "      <td>4</td>\n",
       "      <td>5</td>\n",
       "      <td>2</td>\n",
       "      <td>0.539036</td>\n",
       "    </tr>\n",
       "    <tr>\n",
       "      <th>3</th>\n",
       "      <td>Tesouro (Selic)</td>\n",
       "      <td>5</td>\n",
       "      <td>1</td>\n",
       "      <td>0</td>\n",
       "      <td>0</td>\n",
       "      <td>0.334069</td>\n",
       "    </tr>\n",
       "    <tr>\n",
       "      <th>4</th>\n",
       "      <td>Fundo de Investimento</td>\n",
       "      <td>15</td>\n",
       "      <td>3</td>\n",
       "      <td>0</td>\n",
       "      <td>5</td>\n",
       "      <td>0.163262</td>\n",
       "    </tr>\n",
       "  </tbody>\n",
       "</table>\n",
       "</div>"
      ],
      "text/plain": [
       "                        Alternativas  Valorização (%a.a.)  Risco  \\\n",
       "0  Fundo de Investimento Imobiliário                   10      2   \n",
       "1                            Bitcoin                   50      5   \n",
       "2                              Ações                   20      4   \n",
       "3                    Tesouro (Selic)                    5      1   \n",
       "4              Fundo de Investimento                   15      3   \n",
       "\n",
       "   Dividendos(%a.a)  Liquidez (D+)  Ordenamento_topsis  \n",
       "0                 8              2            0.702802  \n",
       "1                 0              0            0.359483  \n",
       "2                 5              2            0.539036  \n",
       "3                 0              0            0.334069  \n",
       "4                 0              5            0.163262  "
      ]
     },
     "execution_count": 29,
     "metadata": {},
     "output_type": "execute_result"
    }
   ],
   "source": [
    "# Método TOPSIS\n",
    "df = topsis(crit=crit_max, peso=w, frame=df)\n",
    "df"
   ]
  },
  {
   "cell_type": "markdown",
   "metadata": {
    "hidden": true
   },
   "source": [
    "## Parte 2"
   ]
  },
  {
   "cell_type": "markdown",
   "metadata": {
    "hidden": true
   },
   "source": [
    "\n",
    "### Contrução de um hospital \n",
    "\n",
    "- Tempo médio que o paciente espera na emergência (𝐶1)\n",
    "\n",
    "- Número de pacientes que podem ser acomodados nas UTIs (𝐶2)\n",
    "\n",
    "- Distância entre a localização do hospital e o centro urbano mais próximo (𝐶3)"
   ]
  },
  {
   "cell_type": "code",
   "execution_count": 30,
   "metadata": {
    "hidden": true
   },
   "outputs": [],
   "source": [
    "# Tabela apresentada \n",
    "d = {'Alternativas': ['Hospital 1', 'Hospital 2', 'Hospital 3', 'Hospital 4'],\n",
    "     'Tempo de Espera': [8, 8, 4, 4],\n",
    "     'Pacientes Acomodados': [7, 4, 7, 4], \n",
    "     'Distância': [4, 7, 4, 7],\n",
    "    }\n",
    "# Critério\n",
    "crit_max = [False, True, True]\n",
    "df = pd.DataFrame(data=d)"
   ]
  },
  {
   "cell_type": "code",
   "execution_count": 31,
   "metadata": {
    "hidden": true
   },
   "outputs": [
    {
     "data": {
      "text/html": [
       "<div>\n",
       "<style scoped>\n",
       "    .dataframe tbody tr th:only-of-type {\n",
       "        vertical-align: middle;\n",
       "    }\n",
       "\n",
       "    .dataframe tbody tr th {\n",
       "        vertical-align: top;\n",
       "    }\n",
       "\n",
       "    .dataframe thead th {\n",
       "        text-align: right;\n",
       "    }\n",
       "</style>\n",
       "<table border=\"1\" class=\"dataframe\">\n",
       "  <thead>\n",
       "    <tr style=\"text-align: right;\">\n",
       "      <th></th>\n",
       "      <th>Alternativas</th>\n",
       "      <th>Tempo de Espera</th>\n",
       "      <th>Pacientes Acomodados</th>\n",
       "      <th>Distância</th>\n",
       "    </tr>\n",
       "  </thead>\n",
       "  <tbody>\n",
       "    <tr>\n",
       "      <th>0</th>\n",
       "      <td>Hospital 1</td>\n",
       "      <td>8</td>\n",
       "      <td>7</td>\n",
       "      <td>4</td>\n",
       "    </tr>\n",
       "    <tr>\n",
       "      <th>1</th>\n",
       "      <td>Hospital 2</td>\n",
       "      <td>8</td>\n",
       "      <td>4</td>\n",
       "      <td>7</td>\n",
       "    </tr>\n",
       "    <tr>\n",
       "      <th>2</th>\n",
       "      <td>Hospital 3</td>\n",
       "      <td>4</td>\n",
       "      <td>7</td>\n",
       "      <td>4</td>\n",
       "    </tr>\n",
       "    <tr>\n",
       "      <th>3</th>\n",
       "      <td>Hospital 4</td>\n",
       "      <td>4</td>\n",
       "      <td>4</td>\n",
       "      <td>7</td>\n",
       "    </tr>\n",
       "  </tbody>\n",
       "</table>\n",
       "</div>"
      ],
      "text/plain": [
       "  Alternativas  Tempo de Espera  Pacientes Acomodados  Distância\n",
       "0   Hospital 1                8                     7          4\n",
       "1   Hospital 2                8                     4          7\n",
       "2   Hospital 3                4                     7          4\n",
       "3   Hospital 4                4                     4          7"
      ]
     },
     "execution_count": 31,
     "metadata": {},
     "output_type": "execute_result"
    }
   ],
   "source": [
    "df"
   ]
  },
  {
   "cell_type": "markdown",
   "metadata": {
    "hidden": true
   },
   "source": [
    "hospital 4 e hospital 3: 4w1 + 4w2 + 7w3 > 4w1 + 7w2 + 4w3 => \n",
    "\n",
    "-3w2 > -3w3 => w3 > w2\n",
    "\n",
    "hospital 1 e hospital 2: 8w1 + 7w2 + 4w3 > 8w1 + 4w2 + 7w3 =>\n",
    "\n",
    "3w2 > 3w3 => w2 > w3\n",
    "\n",
    "No primeiro caso, o decisor quando diz 'prefere melhor localização ao invés do número de pacientes acomodados' podemos dizer que w3 > w2 e quanodo analisamos a sua segunda preferencia, 'abre mão da locallização e prefere um hospital que pode acomodar mais pacientes' ele ser  refere w2 > 3. Dessa forma, há inconsistência na preferencia do decisor."
   ]
  },
  {
   "cell_type": "markdown",
   "metadata": {
    "hidden": true
   },
   "source": [
    "* (ii) Considere os pesos 𝑤 = [0,39 0,31 0,30]. Aplique o método TOPSIS (com normalização Euclidiana) e ordene os hospitais."
   ]
  },
  {
   "cell_type": "code",
   "execution_count": 32,
   "metadata": {
    "hidden": true
   },
   "outputs": [
    {
     "name": "stdout",
     "output_type": "stream",
     "text": [
      "1° Lugar --> Hospital 3\n",
      "2° Lugar --> Hospital 4\n",
      "3° Lugar --> Hospital 1\n",
      "4° Lugar --> Hospital 2\n"
     ]
    },
    {
     "data": {
      "text/html": [
       "<div>\n",
       "<style scoped>\n",
       "    .dataframe tbody tr th:only-of-type {\n",
       "        vertical-align: middle;\n",
       "    }\n",
       "\n",
       "    .dataframe tbody tr th {\n",
       "        vertical-align: top;\n",
       "    }\n",
       "\n",
       "    .dataframe thead th {\n",
       "        text-align: right;\n",
       "    }\n",
       "</style>\n",
       "<table border=\"1\" class=\"dataframe\">\n",
       "  <thead>\n",
       "    <tr style=\"text-align: right;\">\n",
       "      <th></th>\n",
       "      <th>Alternativas</th>\n",
       "      <th>Tempo de Espera</th>\n",
       "      <th>Pacientes Acomodados</th>\n",
       "      <th>Distância</th>\n",
       "      <th>Ordenamento_topsis</th>\n",
       "    </tr>\n",
       "  </thead>\n",
       "  <tbody>\n",
       "    <tr>\n",
       "      <th>0</th>\n",
       "      <td>Hospital 1</td>\n",
       "      <td>8</td>\n",
       "      <td>7</td>\n",
       "      <td>4</td>\n",
       "      <td>0.357758</td>\n",
       "    </tr>\n",
       "    <tr>\n",
       "      <th>1</th>\n",
       "      <td>Hospital 2</td>\n",
       "      <td>8</td>\n",
       "      <td>4</td>\n",
       "      <td>7</td>\n",
       "      <td>0.348044</td>\n",
       "    </tr>\n",
       "    <tr>\n",
       "      <th>2</th>\n",
       "      <td>Hospital 3</td>\n",
       "      <td>4</td>\n",
       "      <td>7</td>\n",
       "      <td>4</td>\n",
       "      <td>0.651956</td>\n",
       "    </tr>\n",
       "    <tr>\n",
       "      <th>3</th>\n",
       "      <td>Hospital 4</td>\n",
       "      <td>4</td>\n",
       "      <td>4</td>\n",
       "      <td>7</td>\n",
       "      <td>0.642242</td>\n",
       "    </tr>\n",
       "  </tbody>\n",
       "</table>\n",
       "</div>"
      ],
      "text/plain": [
       "  Alternativas  Tempo de Espera  Pacientes Acomodados  Distância  \\\n",
       "0   Hospital 1                8                     7          4   \n",
       "1   Hospital 2                8                     4          7   \n",
       "2   Hospital 3                4                     7          4   \n",
       "3   Hospital 4                4                     4          7   \n",
       "\n",
       "   Ordenamento_topsis  \n",
       "0            0.357758  \n",
       "1            0.348044  \n",
       "2            0.651956  \n",
       "3            0.642242  "
      ]
     },
     "execution_count": 32,
     "metadata": {},
     "output_type": "execute_result"
    }
   ],
   "source": [
    "# Pesos: w\n",
    "w = [0.39, 0.31, 0.30]\n",
    "# Método TOPSIS\n",
    "df = topsis(crit=crit_max, peso=w, frame=df)\n",
    "df"
   ]
  },
  {
   "cell_type": "markdown",
   "metadata": {
    "hidden": true
   },
   "source": [
    "## parte1.1"
   ]
  },
  {
   "cell_type": "markdown",
   "metadata": {
    "hidden": true
   },
   "source": [
    "* Em seguida, considere que outro hospital (Hospital 5) entrou na avaliação, com os valores 5, 5 e 8 para os critérios 𝐶1, 𝐶2 e 𝐶3, respectivamente. Aplique, novamente, o método TOPSIS (com normalização Euclidiana) e ordene os hospitais. Compare os ordenamentos obtidos. Dica: esse resultado mostra uma “falha” no método TOPSIS"
   ]
  },
  {
   "cell_type": "code",
   "execution_count": 33,
   "metadata": {
    "hidden": true
   },
   "outputs": [],
   "source": [
    "new = {'Alternativas': 'Hospital 5',\n",
    "       'Tempo de Espera': 5,\n",
    "       'Pacientes Acomodados': 5,\n",
    "       'Distância': 8\n",
    "      }\n",
    "# Acrescentar o Hospital 5\n",
    "df = df.append(new, ignore_index=True)"
   ]
  },
  {
   "cell_type": "code",
   "execution_count": 34,
   "metadata": {
    "hidden": true
   },
   "outputs": [
    {
     "name": "stdout",
     "output_type": "stream",
     "text": [
      "1° Lugar --> Hospital 5\n",
      "2° Lugar --> Hospital 4\n",
      "3° Lugar --> Hospital 3\n",
      "4° Lugar --> Hospital 1\n",
      "5° Lugar --> Hospital 2\n"
     ]
    },
    {
     "data": {
      "text/html": [
       "<div>\n",
       "<style scoped>\n",
       "    .dataframe tbody tr th:only-of-type {\n",
       "        vertical-align: middle;\n",
       "    }\n",
       "\n",
       "    .dataframe tbody tr th {\n",
       "        vertical-align: top;\n",
       "    }\n",
       "\n",
       "    .dataframe thead th {\n",
       "        text-align: right;\n",
       "    }\n",
       "</style>\n",
       "<table border=\"1\" class=\"dataframe\">\n",
       "  <thead>\n",
       "    <tr style=\"text-align: right;\">\n",
       "      <th></th>\n",
       "      <th>Alternativas</th>\n",
       "      <th>Tempo de Espera</th>\n",
       "      <th>Pacientes Acomodados</th>\n",
       "      <th>Distância</th>\n",
       "      <th>Ordenamento_topsis</th>\n",
       "    </tr>\n",
       "  </thead>\n",
       "  <tbody>\n",
       "    <tr>\n",
       "      <th>0</th>\n",
       "      <td>Hospital 1</td>\n",
       "      <td>8</td>\n",
       "      <td>7</td>\n",
       "      <td>4</td>\n",
       "      <td>0.342427</td>\n",
       "    </tr>\n",
       "    <tr>\n",
       "      <th>1</th>\n",
       "      <td>Hospital 2</td>\n",
       "      <td>8</td>\n",
       "      <td>4</td>\n",
       "      <td>7</td>\n",
       "      <td>0.318033</td>\n",
       "    </tr>\n",
       "    <tr>\n",
       "      <th>2</th>\n",
       "      <td>Hospital 3</td>\n",
       "      <td>4</td>\n",
       "      <td>7</td>\n",
       "      <td>4</td>\n",
       "      <td>0.613706</td>\n",
       "    </tr>\n",
       "    <tr>\n",
       "      <th>3</th>\n",
       "      <td>Hospital 4</td>\n",
       "      <td>4</td>\n",
       "      <td>4</td>\n",
       "      <td>7</td>\n",
       "      <td>0.628711</td>\n",
       "    </tr>\n",
       "    <tr>\n",
       "      <th>4</th>\n",
       "      <td>Hospital 5</td>\n",
       "      <td>5</td>\n",
       "      <td>5</td>\n",
       "      <td>8</td>\n",
       "      <td>0.683794</td>\n",
       "    </tr>\n",
       "  </tbody>\n",
       "</table>\n",
       "</div>"
      ],
      "text/plain": [
       "  Alternativas  Tempo de Espera  Pacientes Acomodados  Distância  \\\n",
       "0   Hospital 1                8                     7          4   \n",
       "1   Hospital 2                8                     4          7   \n",
       "2   Hospital 3                4                     7          4   \n",
       "3   Hospital 4                4                     4          7   \n",
       "4   Hospital 5                5                     5          8   \n",
       "\n",
       "   Ordenamento_topsis  \n",
       "0            0.342427  \n",
       "1            0.318033  \n",
       "2            0.613706  \n",
       "3            0.628711  \n",
       "4            0.683794  "
      ]
     },
     "execution_count": 34,
     "metadata": {},
     "output_type": "execute_result"
    }
   ],
   "source": [
    "# Método TOPSIS\n",
    "df = topsis(crit=crit_max, peso=w, frame=df)\n",
    "df"
   ]
  },
  {
   "cell_type": "markdown",
   "metadata": {
    "hidden": true
   },
   "source": [
    "Ao acrescentar a 5 alternativa, observamos que a ordem do ranqueamento entre os hospitais 4 e 3 oi alterada. Esse alteração no ordenamento não deveroa acontecer já que foi acrescentado uma alternativa e não alteração nos valores para cada critério, mesmo assim houve mudança no ordenamento.  "
   ]
  },
  {
   "cell_type": "markdown",
   "metadata": {
    "heading_collapsed": true
   },
   "source": [
    "# Agregação Linear: Análise Hierárquica de Processos (AHP)"
   ]
  },
  {
   "cell_type": "markdown",
   "metadata": {
    "hidden": true
   },
   "source": [
    "Suponha que você tenha três objetos, com os seguintes pesos:\n",
    "$$w_1=2; w_2=4; w_3=6$$\n",
    "\n",
    "Nossa primeira inteção é obter uma comparação par a par entre os pesos desses objetos. Para isso, montamos uma matriz chamada de $H$ que guarda todas as comparações par a par entre esses critérios. \n",
    "\n",
    "$$H= \\begin{bmatrix} w_1/w_1=1 & w_1/w_2=1/2 & w_1/w_3=1/3 \\\\ \n",
    "                     w_2/w_1=2 & w_2/w_2=1   & w_2/w_3=2/3 \\\\ \n",
    "                     w_3/w_1=3 & w_3/w_2=3/2 & w_3/w_3=1 \\end{bmatrix}; H=[hij]; hij= w_i/w_j$$\n",
    "\n",
    "\n",
    "$$H= \\begin{bmatrix} 1 & 1/2 & 1/3 \\\\ \n",
    "                     2 & 1   & 2/3 \\\\ \n",
    "                     3 & 2   & 1 \\end{bmatrix}\n",
    "     \\begin{bmatrix} 2 \\\\ 4 \\\\ 6 \\end{bmatrix} =  \n",
    "     \\begin{bmatrix} 2 + 2 + 2 \\\\\n",
    "                     4 + 4 + 4 \\\\\n",
    "                     6 + 6 + 6 \\end{bmatrix} = 3\\begin{bmatrix}2\\\\ 4 \\\\ 6 \\end{bmatrix}$$\n",
    "\n",
    "$$Hw = 3w$$\n",
    "\n",
    "3 corresponde ao Auto-valor\n",
    "\n",
    "w corresponde ao Auto-vetor\n",
    "\n",
    "### Definição:\n",
    "Um vetor w é dito auto-vetr de uma atriz $H$ se existir uma escalar $\\lambda$ tal que $Hw = \\lambda w$. Nesse caso o $\\lambda$ é chamado de auto-valor de $H$.\n",
    "\n",
    "### Vamos Supor que não temos a informação dos pesos\n",
    "\n",
    "$$w_1 =?; w_2 =?; w_3=?$$\n",
    "\n",
    "Nós não temos os valores desses pesos, mas nós temos de alguma forma de obter a comparação entre elas já que sabemos quanto vale a comparação entre os pesos. Por exemplo:\n",
    "\n",
    "$$H= \\begin{bmatrix}    1    & w_1/w_2 & w_1/w_3 \\\\ \n",
    "                     w_2/w_1 &     1   & w_2/w_3 \\\\ \n",
    "                     w_3/w_1 & w_3/w_2 & 1 \\end{bmatrix}$$\n",
    "                     \n",
    "Como obter $w_1, w_2, w_3$ a partir da matriz de comparação?"
   ]
  },
  {
   "cell_type": "markdown",
   "metadata": {
    "hidden": true
   },
   "source": [
    "$$H= \\begin{bmatrix} w_1/w_1 & w_1/w_2 & w_1/w_3 & \\cdots & w_1/w_n\\\\ \n",
    "                     w_2/w_1 & w_2/w_2 & w_2/w_3 & \\cdots & w_1/w_n\\\\\n",
    "                     \\vdots  & \\vdots  & \\vdots  & \\vdots & \\vdots\\\\\n",
    "                     w_n/w_1 & w_n/w_2 & w_3/w_3 & \\cdots & w_n/w_n\n",
    "                     \\end{bmatrix} \\begin{bmatrix} w_1 \\\\ w_2 \\\\ \\vdots \\\\ w_n \\end{bmatrix}$$\n",
    "\n",
    "Temos na primeira coluna $n$ que é o número de comparações realizadas e $H$ que é a nossa matriz de comparação par a par\n",
    "\n",
    "$$\\begin{bmatrix} nw_1 \\\\ nw_2 \\\\ \\vdots \\\\ nw_n \\end{bmatrix} = \n",
    "n \\begin{bmatrix} w_1 \\\\ w_2 \\\\ \\vdots \\\\ w_n \\end{bmatrix} => Hw = nw\n",
    "$$\n",
    "\n",
    "Dada uma matriz de comparação par a par de objetos, o auto-vetor dessa matriz permite obter uma ordem de grandeza sobre os objetos $$Hw = nw$$"
   ]
  },
  {
   "cell_type": "markdown",
   "metadata": {
    "hidden": true
   },
   "source": [
    "\n",
    "### Definições Importantes para AHP\n",
    "\n",
    "Uma matriz real $A = [a_{ij}]$, com dimensão $n$ x $n$ é chamada:\n",
    "\n",
    "* **Positiva** se, e somente se, $a_{ij} > 0, \\forall i,j$\n",
    "\n",
    "\n",
    "* **Recíproca** se, e somente se, $a_{ij} = \\frac{1}{a_{ij}}, \\forall i,j$\n",
    "\n",
    "\n",
    "* **Consistente** se, e somente se, $a_{ij} a_{jk} = a_{ij}, \\forall i,j$\n",
    "\n",
    "\n",
    "Um vetor $w = [w_1, w_2, ..., w_n]$ é chamado de **vetor de prioridade** de uma matriz consistente se, e somente se, $a_{ij} = \\frac{w_i}{w_j}$.\n",
    "\n",
    "\n",
    "**Teorema de Perron-Frobeniuos**: uma matriz real quadrada com entradas positivas tem um único \n",
    "maior autovalor real e que o correspondente autovetor tem componentes estritamente \n",
    "positivos.\n",
    "\n",
    "\n",
    "### Escala de Saaty para comparação par a par\n",
    "\n",
    "* **Igualmente** preferível = 1\n",
    "\n",
    "* **Moderadamente** preferível = 3\n",
    "\n",
    "* **Fortemente** preferível = 5\n",
    "\n",
    "* **Muito Fortemente** preferível = 7\n",
    "\n",
    "* **Extremamente** preferível = 9"
   ]
  },
  {
   "cell_type": "code",
   "execution_count": 35,
   "metadata": {
    "hidden": true
   },
   "outputs": [
    {
     "data": {
      "text/html": [
       "<div>\n",
       "<style scoped>\n",
       "    .dataframe tbody tr th:only-of-type {\n",
       "        vertical-align: middle;\n",
       "    }\n",
       "\n",
       "    .dataframe tbody tr th {\n",
       "        vertical-align: top;\n",
       "    }\n",
       "\n",
       "    .dataframe thead th {\n",
       "        text-align: right;\n",
       "    }\n",
       "</style>\n",
       "<table border=\"1\" class=\"dataframe\">\n",
       "  <thead>\n",
       "    <tr style=\"text-align: right;\">\n",
       "      <th></th>\n",
       "      <th>Alternativas</th>\n",
       "      <th>Preço</th>\n",
       "      <th>Nota</th>\n",
       "      <th>Localização</th>\n",
       "    </tr>\n",
       "  </thead>\n",
       "  <tbody>\n",
       "    <tr>\n",
       "      <th>0</th>\n",
       "      <td>Hotel 1</td>\n",
       "      <td>700</td>\n",
       "      <td>9.2</td>\n",
       "      <td>Ótima</td>\n",
       "    </tr>\n",
       "    <tr>\n",
       "      <th>1</th>\n",
       "      <td>Hotel 2</td>\n",
       "      <td>350</td>\n",
       "      <td>8.0</td>\n",
       "      <td>Muito Boa</td>\n",
       "    </tr>\n",
       "    <tr>\n",
       "      <th>2</th>\n",
       "      <td>Hotel 3</td>\n",
       "      <td>200</td>\n",
       "      <td>8.7</td>\n",
       "      <td>Ruim</td>\n",
       "    </tr>\n",
       "    <tr>\n",
       "      <th>3</th>\n",
       "      <td>Hotel 4</td>\n",
       "      <td>70</td>\n",
       "      <td>4.5</td>\n",
       "      <td>Boa</td>\n",
       "    </tr>\n",
       "  </tbody>\n",
       "</table>\n",
       "</div>"
      ],
      "text/plain": [
       "  Alternativas  Preço  Nota Localização\n",
       "0      Hotel 1    700   9.2       Ótima\n",
       "1      Hotel 2    350   8.0   Muito Boa\n",
       "2      Hotel 3    200   8.7        Ruim\n",
       "3      Hotel 4     70   4.5         Boa"
      ]
     },
     "execution_count": 35,
     "metadata": {},
     "output_type": "execute_result"
    }
   ],
   "source": [
    "# Matriz de decisão  \n",
    "d = {'Alternativas': ['Hotel 1', 'Hotel 2', 'Hotel 3', 'Hotel 4'],\n",
    "     'Preço': [700, 350, 200, 70],\n",
    "     'Nota': [9.2, 8, 8.7, 4.5], \n",
    "     'Localização': ['Ótima', 'Muito Boa', 'Ruim', 'Boa']\n",
    "    }\n",
    "\n",
    "df = pd.DataFrame(data=d)\n",
    "df"
   ]
  },
  {
   "cell_type": "code",
   "execution_count": 36,
   "metadata": {
    "hidden": true
   },
   "outputs": [],
   "source": [
    "def ahp_criterios(frame):\n",
    "    # Verificar se o código já foi utilizado\n",
    "    for k in frame.columns: \n",
    "        if k == 'Ordenamento_saw':\n",
    "            frame.drop(columns=['Ordenamento_saw'], inplace=True)\n",
    "        if k == 'Ordenamento_topsis':\n",
    "            frame.drop(columns=['Ordenamento_topsis'], inplace=True)\n",
    "        else:\n",
    "            pass\n",
    "    # Tamanho da Matriz de decisão\n",
    "    tamanho = len(frame.columns[1:])\n",
    "    \n",
    "    # Matriz da comparação par a par dos critérios\n",
    "    matriz = np.zeros((tamanho, tamanho), dtype=float)\n",
    "    # Diagonal com valores 1\n",
    "    np.fill_diagonal(matriz, 1)\n",
    "\n",
    "    # Matriz de preferencia\n",
    "    sua_matriz = []\n",
    "    \n",
    "    for i in range(tamanho):\n",
    "        q1 = frame.columns[i+1]\n",
    "        for j in range(tamanho):\n",
    "            q2 = frame.columns[j+1]\n",
    "            if j>i:\n",
    "                # Construção da matriz pelo decisor\n",
    "                print('******Comparação entre os Critérios******')\n",
    "                print('Igualmente preferível ---> 1 ou 2')\n",
    "                print('Moderadamente preferível---> 3 ou 4')\n",
    "                print('Fortemente preferível---> 5 ou 6')\n",
    "                print('Muito Fortemente preferível---> 7 ou 8')\n",
    "                print('Extremamente preferível> 9')\n",
    "                print('------'*10)\n",
    "                print(frame)\n",
    "                print('Escolha entre as Alternativas')\n",
    "                print('Preferência entre', '\\033[91m'+f'{q1}'+'\\033[0m')\n",
    "                print('Em relação a(o)', '\\033[91m'+f'{q2}'+'\\033[0m')\n",
    "                while True:\n",
    "                    try:\n",
    "                        resposta = int(input('Resposta:'))\n",
    "                        if (resposta >= 1) & (resposta <= 9):\n",
    "                            matriz[i, j] = resposta\n",
    "                            sua_matriz.append(f'Prefere {q1} do que {q2} em {resposta}')\n",
    "                            break\n",
    "                        else:\n",
    "                            print('\\033[91m'+\"------ERRO!!!------\"+'\\033[0m')\n",
    "                            print('Preferência entre os Critérios é entre 1 e 9')\n",
    "                            print('\\033[91m'+\"------ERRO!!!------\"+'\\033[0m')\n",
    "                    except ValueError:\n",
    "                        print('\\033[91m' + \"------ERRO!!!------\" + '\\033[0m')\n",
    "                        print('Preferência entre os Critérios é entre 1 e 9')\n",
    "                        print('\\033[91m' + \"------ERRO!!!------\" + '\\033[0m')\n",
    "                print('   Loading...')\n",
    "                time.sleep(1.2)  # Sleep for 1 seconds\n",
    "                clear_output()  # apaga o comentário feito anteriormente\n",
    "            elif j<i:\n",
    "                matriz[i, j] = 1/matriz[j, i]\n",
    "\n",
    "    #Cálculo do autovalor e do autorvetor da matriz\n",
    "    autovalor, autovetor = np.linalg.eig(matriz)\n",
    "    \n",
    "    #Considerar apenas a parte real do autovalor\n",
    "    autovalor_real = autovalor.real\n",
    "    autovetor = autovetor.real\n",
    "        \n",
    "    #Encontrar o maior autovalor e sua posição\n",
    "    lambda_max = np.amax(autovalor_real) # maior autovalor\n",
    "    lambda_ind = np.argmax(autovalor_real) # posição do maior autovalor\n",
    "    \n",
    "    #Calculando o vetor de prioridades, com base no autovetor associado ao maior autovalor\n",
    "    vetor_P=autovetor[:, lambda_ind] #pega o autovalor correspondente a lambda_max\n",
    "    \n",
    "    #Normalizando o vetor_P para que tenha soma 1\n",
    "    vetor_P = vetor_P/sum(vetor_P) # w é o vetor de pesos normalizado\n",
    "    \n",
    "    #Calculo da consistência da matriz de comparação par a par\n",
    "    RI_list = [0,0,0.58,0.90,1.12,1.24,1.32,1.41,1.45] # valores de RI pré-definidos\n",
    "    CI = (lambda_max - tamanho)/(tamanho-1) # número de linhas de C\n",
    "    RC = CI/RI_list[tamanho-1]\n",
    "    \n",
    "    # Calma mano, relaxa um pouco\n",
    "    print('   Loading...')\n",
    "    time.sleep(1.5)  # Sleep for 1 seconds\n",
    "    clear_output()\n",
    "    print('Sua Preferência')\n",
    "    for x in sua_matriz:\n",
    "        print(x)\n",
    "    print('-----' * 10)\n",
    "    \n",
    "    print(\"A razão de consistência é \",RC)\n",
    "    print(\" \")\n",
    "    if RC <= 0.1:\n",
    "        print(\"A matriz é consistente: \")\n",
    "    else:\n",
    "        print('\\033[91m'+\"Atenção:\"+'\\033[0m'+ \"a matriz NÃO É consistente - revisar a comparação par-a-par.\")\n",
    "    \n",
    "    print(\" \")\n",
    "    print(\"O vetor de prioridades é v:\", vetor_P)\n",
    "    print(\" \")\n",
    "    # print(\"-----\"*10)\n",
    "    \n",
    "    #Após calcular todos os vetores de prioridade, a agregação pode ser feita multiplicando as matrizes B pelo vetor de pesos w\n",
    "    B = [[1,1,1,1],[1,1,1,1],[1,1,1,1]]\n",
    "    B=np.transpose(B)\n",
    "    w = vetor_P\n",
    "    V=np.matmul(B, w)\n",
    "    # print(V)\n",
    "    \n",
    "    return vetor_P"
   ]
  },
  {
   "cell_type": "code",
   "execution_count": 37,
   "metadata": {
    "hidden": true
   },
   "outputs": [
    {
     "name": "stdout",
     "output_type": "stream",
     "text": [
      "Sua Preferência\n",
      "Prefere Preço do que Nota em 5\n",
      "Prefere Preço do que Localização em 7\n",
      "Prefere Nota do que Localização em 3\n",
      "--------------------------------------------------\n",
      "A razão de consistência é  0.05593756885587789\n",
      " \n",
      "A matriz é consistente: \n",
      " \n",
      "O vetor de prioridades é v: [0.73064467 0.1883941  0.08096123]\n",
      " \n"
     ]
    }
   ],
   "source": [
    "vetor_P = ahp_criterios(frame=df)"
   ]
  },
  {
   "cell_type": "code",
   "execution_count": 38,
   "metadata": {
    "hidden": true
   },
   "outputs": [],
   "source": [
    "def alternativas(frame, coluna):\n",
    "    # Verificar se o código já foi utilizado\n",
    "    for k in frame.columns: \n",
    "        if k == 'Ordenamento_saw':\n",
    "            frame.drop(columns=['Ordenamento_saw'], inplace=True)\n",
    "        if k == 'Ordenamento_topsis':\n",
    "            frame.drop(columns=['Ordenamento_topsis'], inplace=True)\n",
    "        else:\n",
    "            pass\n",
    "    \n",
    "    # Tamanho da Matriz de decisão\n",
    "    tamanho = len(frame)\n",
    "\n",
    "    # Matriz da comparação par a par dos critérios\n",
    "    matriz = np.zeros((tamanho, tamanho), dtype=float)\n",
    "    # Diagonal com valores 1\n",
    "    np.fill_diagonal(matriz, 1)\n",
    "    \n",
    "    # Matriz de preferencia \n",
    "    sua_matriz = []\n",
    "    \n",
    "    for i in range(tamanho):\n",
    "        # Seria a primeira alternativa\n",
    "        q1 = frame.loc[i, frame.columns[0]]\n",
    "        for j in range(tamanho):\n",
    "            q2 = frame.loc[j, frame.columns[0]]\n",
    "            if j > i:\n",
    "                print(f'****Escolha entre as Alternativas no Critério {frame.columns[coluna]}****')\n",
    "                print('Você prefere', '\\033[91m'+f'{q1}'+'\\033[0m', f'({frame.loc[i, frame.columns[coluna]]}) --> 0')\n",
    "                print('Ou prefere', '\\033[91m'+f'{q2}'+'\\033[0m', f'({frame.loc[j, frame.columns[coluna]]}) --> 1')\n",
    "                while True:\n",
    "                    try:\n",
    "                        resposta = int(input('Resposta: '))\n",
    "                        if resposta == 0:\n",
    "                            matriz[i, j] = frame.loc[i, frame.columns[coluna]] / frame.loc[j, frame.columns[coluna]]\n",
    "                            sua_matriz.append(f'Prefiro {q1} do que {q2}')\n",
    "                            break\n",
    "                        elif resposta == 1:\n",
    "                            matriz[i, j] = frame.loc[j, frame.columns[coluna]] / frame.loc[i, frame.columns[coluna]]\n",
    "                            sua_matriz.append(f'Prefiro {q2} do que {q1}')\n",
    "                            break\n",
    "                        else:\n",
    "                            print('\\033[91m' + \"------ERRO!!!------\" + '\\033[0m')\n",
    "                            print('Preferência entre as Alternativas é 0 ou 1')\n",
    "                            print('\\033[91m' + \"------ERRO!!!------\" + '\\033[0m')\n",
    "                    except ValueError:\n",
    "                        print('\\033[91m' + \"------ERRO!!!------\" + '\\033[0m')\n",
    "                        print('Preferência entre as Alternativas é 0 ou 1')\n",
    "                        print('\\033[91m' + \"------ERRO!!!------\" + '\\033[0m')\n",
    "                print('   Loading...')\n",
    "                time.sleep(1.2) # Sleep for 1 seconds\n",
    "                clear_output() # apaga o comentário feito anteriormente\n",
    "            elif j < i:\n",
    "                matriz[i, j] = 1 / matriz[j, i]\n",
    "    \n",
    "    #Cálculo do autovalor e do autorvetor da matriz\n",
    "    autovalor, autovetor = np.linalg.eig(matriz)\n",
    "    \n",
    "    #Considerar apenas a parte real do autovalor\n",
    "    autovalor_real = autovalor.real\n",
    "    autovetor = autovetor.real\n",
    "        \n",
    "    #Encontrar o maior autovalor e sua posição\n",
    "    lambda_max = np.amax(autovalor_real) # maior autovalor\n",
    "    lambda_ind = np.argmax(autovalor_real) # posição do maior autovalor\n",
    "    \n",
    "    #Calculando o vetor de prioridades, com base no autovetor associado ao maior autovalor\n",
    "    vetor_P=autovetor[:, lambda_ind] #pega o autovalor correspondente a lambda_max\n",
    "    \n",
    "    #Normalizando o vetor_P para que tenha soma 1\n",
    "    vetor_P = vetor_P/sum(vetor_P) # w é o vetor de pesos normalizado\n",
    "    \n",
    "    #Calculo da consistência da matriz de comparação par a par\n",
    "    RI_list = [0,0,0.58,0.90,1.12,1.24,1.32,1.41,1.45] # valores de RI pré-definidos\n",
    "    CI = (lambda_max - tamanho)/(tamanho-1) # número de linhas de C\n",
    "    RC = CI/RI_list[tamanho-1]\n",
    "    \n",
    "    # Calma mano, relaxa um pouco \n",
    "    print('   Loading...')\n",
    "    time.sleep(1.5) # Sleep for 1 seconds\n",
    "    clear_output(wait=True)\n",
    "    print(f'Sua Preferência no Critério {frame.columns[coluna]}')\n",
    "    for x in sua_matriz:\n",
    "        print(x)\n",
    "    print('-----'*10)\n",
    "    \n",
    "    print(\"A razão de consistência é \",RC)\n",
    "    print(\" \")\n",
    "    if RC <= 0.1:\n",
    "        print(\"A matriz é consistente: \")\n",
    "        verdadeiro = True\n",
    "    else:\n",
    "        print('\\033[91m'+\"Atenção:\"+'\\033[0m'+ \"a matriz NÃO É consistente - revisar a comparação par-a-par.\")\n",
    "        verdadeiro = False\n",
    "    \n",
    "    print(\" \")\n",
    "    print(\"O vetor de prioridades é v:\", vetor_P)\n",
    "    print(\" \")\n",
    "    # print(\"-----\"*10)\n",
    "    \n",
    "    return vetor_P, verdadeiro"
   ]
  },
  {
   "cell_type": "code",
   "execution_count": 39,
   "metadata": {
    "hidden": true
   },
   "outputs": [
    {
     "data": {
      "text/html": [
       "<div>\n",
       "<style scoped>\n",
       "    .dataframe tbody tr th:only-of-type {\n",
       "        vertical-align: middle;\n",
       "    }\n",
       "\n",
       "    .dataframe tbody tr th {\n",
       "        vertical-align: top;\n",
       "    }\n",
       "\n",
       "    .dataframe thead th {\n",
       "        text-align: right;\n",
       "    }\n",
       "</style>\n",
       "<table border=\"1\" class=\"dataframe\">\n",
       "  <thead>\n",
       "    <tr style=\"text-align: right;\">\n",
       "      <th></th>\n",
       "      <th>Alternativas</th>\n",
       "      <th>Preço</th>\n",
       "      <th>Nota</th>\n",
       "      <th>Localização</th>\n",
       "    </tr>\n",
       "  </thead>\n",
       "  <tbody>\n",
       "    <tr>\n",
       "      <th>0</th>\n",
       "      <td>Hotel 1</td>\n",
       "      <td>700</td>\n",
       "      <td>9.2</td>\n",
       "      <td>9</td>\n",
       "    </tr>\n",
       "    <tr>\n",
       "      <th>1</th>\n",
       "      <td>Hotel 2</td>\n",
       "      <td>350</td>\n",
       "      <td>8.0</td>\n",
       "      <td>7</td>\n",
       "    </tr>\n",
       "    <tr>\n",
       "      <th>2</th>\n",
       "      <td>Hotel 3</td>\n",
       "      <td>200</td>\n",
       "      <td>8.7</td>\n",
       "      <td>2</td>\n",
       "    </tr>\n",
       "    <tr>\n",
       "      <th>3</th>\n",
       "      <td>Hotel 4</td>\n",
       "      <td>70</td>\n",
       "      <td>4.5</td>\n",
       "      <td>5</td>\n",
       "    </tr>\n",
       "  </tbody>\n",
       "</table>\n",
       "</div>"
      ],
      "text/plain": [
       "  Alternativas  Preço  Nota  Localização\n",
       "0      Hotel 1    700   9.2            9\n",
       "1      Hotel 2    350   8.0            7\n",
       "2      Hotel 3    200   8.7            2\n",
       "3      Hotel 4     70   4.5            5"
      ]
     },
     "execution_count": 39,
     "metadata": {},
     "output_type": "execute_result"
    }
   ],
   "source": [
    "# Matriz de decisão  \n",
    "d = {'Alternativas': ['Hotel 1', 'Hotel 2', 'Hotel 3', 'Hotel 4'],\n",
    "     'Preço': [700, 350, 200, 70],\n",
    "     'Nota': [9.2, 8, 8.7, 4.5], \n",
    "     'Localização': [9, 7, 2, 5]\n",
    "    }\n",
    "\n",
    "df = pd.DataFrame(data=d)\n",
    "df"
   ]
  },
  {
   "cell_type": "code",
   "execution_count": 40,
   "metadata": {
    "hidden": true
   },
   "outputs": [
    {
     "name": "stdout",
     "output_type": "stream",
     "text": [
      "Sua Preferência no Critério Preço\n",
      "Prefiro Hotel 1 do que Hotel 2\n",
      "Prefiro Hotel 1 do que Hotel 3\n",
      "Prefiro Hotel 1 do que Hotel 4\n",
      "Prefiro Hotel 2 do que Hotel 3\n",
      "Prefiro Hotel 2 do que Hotel 4\n",
      "Prefiro Hotel 3 do que Hotel 4\n",
      "--------------------------------------------------\n",
      "A razão de consistência é  -1.644774851296528e-16\n",
      " \n",
      "A matriz é consistente: \n",
      " \n",
      "O vetor de prioridades é v: [0.53030303 0.26515152 0.15151515 0.0530303 ]\n",
      " \n"
     ]
    }
   ],
   "source": [
    "resul = alternativas(frame=df, coluna=1)"
   ]
  },
  {
   "cell_type": "code",
   "execution_count": 41,
   "metadata": {
    "hidden": true
   },
   "outputs": [
    {
     "name": "stdout",
     "output_type": "stream",
     "text": [
      "Sua Preferência no Critério Nota\n",
      "Prefiro Hotel 1 do que Hotel 2\n",
      "Prefiro Hotel 1 do que Hotel 3\n",
      "Prefiro Hotel 1 do que Hotel 4\n",
      "Prefiro Hotel 3 do que Hotel 2\n",
      "Prefiro Hotel 2 do que Hotel 4\n",
      "Prefiro Hotel 3 do que Hotel 4\n",
      "--------------------------------------------------\n",
      "A razão de consistência é  0.0013037452688681708\n",
      " \n",
      "A matriz é consistente: \n",
      " \n",
      "O vetor de prioridades é v: [0.30263184 0.27468097 0.27466076 0.14802644]\n",
      " \n"
     ]
    }
   ],
   "source": [
    "resul2 = alternativas(frame=df, coluna=2)"
   ]
  },
  {
   "cell_type": "code",
   "execution_count": 42,
   "metadata": {
    "hidden": true
   },
   "outputs": [
    {
     "name": "stdout",
     "output_type": "stream",
     "text": [
      "Sua Preferência no Critério Localização\n",
      "Prefiro Hotel 1 do que Hotel 2\n",
      "Prefiro Hotel 1 do que Hotel 3\n",
      "Prefiro Hotel 1 do que Hotel 4\n",
      "Prefiro Hotel 2 do que Hotel 3\n",
      "Prefiro Hotel 2 do que Hotel 4\n",
      "Prefiro Hotel 4 do que Hotel 3\n",
      "--------------------------------------------------\n",
      "A razão de consistência é  0.16524690962633773\n",
      " \n",
      "\u001b[91mAtenção:\u001b[0ma matriz NÃO É consistente - revisar a comparação par-a-par.\n",
      " \n",
      "O vetor de prioridades é v: [0.3933266  0.30592069 0.15584723 0.14490548]\n",
      " \n"
     ]
    }
   ],
   "source": [
    "resul3 = alternativas(frame=df, coluna=3)"
   ]
  },
  {
   "cell_type": "markdown",
   "metadata": {
    "heading_collapsed": true
   },
   "source": [
    "# Mistura com o método AHP alternativas, critérios e SAW"
   ]
  },
  {
   "cell_type": "code",
   "execution_count": 43,
   "metadata": {
    "hidden": true
   },
   "outputs": [],
   "source": [
    "def ahp_alternativas_saw(frame, crit):\n",
    "    # Realizar \n",
    "    resultado = []\n",
    "    for i in range(1, len(frame.columns)):\n",
    "        while True:\n",
    "            matriz, verificacao = alternativas(frame=frame, coluna=i)\n",
    "            if verificacao:\n",
    "                resultado.append(matriz)\n",
    "                break\n",
    "            else:\n",
    "                print('***Precisa refazer esse Critério!!!!***')\n",
    "        time.sleep(8) # Sleep for 1 seconds\n",
    "        print('   Loading...')\n",
    "        clear_output()\n",
    "    # Matriz de Decisão\n",
    "    resultado = np.array(resultado)\n",
    "    \n",
    "    # Obter o Vetor_P\n",
    "    vetor_P = ahp_criterios(frame=frame)\n",
    "    \n",
    "    # Método de Ordenamento de agregação\n",
    "    frame = saw(crit=crit, peso=vetor_P, frame=frame, norm=False)\n",
    "    return frame"
   ]
  },
  {
   "cell_type": "code",
   "execution_count": 44,
   "metadata": {
    "hidden": true
   },
   "outputs": [
    {
     "data": {
      "text/html": [
       "<div>\n",
       "<style scoped>\n",
       "    .dataframe tbody tr th:only-of-type {\n",
       "        vertical-align: middle;\n",
       "    }\n",
       "\n",
       "    .dataframe tbody tr th {\n",
       "        vertical-align: top;\n",
       "    }\n",
       "\n",
       "    .dataframe thead th {\n",
       "        text-align: right;\n",
       "    }\n",
       "</style>\n",
       "<table border=\"1\" class=\"dataframe\">\n",
       "  <thead>\n",
       "    <tr style=\"text-align: right;\">\n",
       "      <th></th>\n",
       "      <th>Alternativas</th>\n",
       "      <th>Preço</th>\n",
       "      <th>Nota</th>\n",
       "      <th>Localização</th>\n",
       "    </tr>\n",
       "  </thead>\n",
       "  <tbody>\n",
       "    <tr>\n",
       "      <th>0</th>\n",
       "      <td>Hotel 1</td>\n",
       "      <td>700</td>\n",
       "      <td>9.2</td>\n",
       "      <td>9</td>\n",
       "    </tr>\n",
       "    <tr>\n",
       "      <th>1</th>\n",
       "      <td>Hotel 2</td>\n",
       "      <td>350</td>\n",
       "      <td>8.0</td>\n",
       "      <td>7</td>\n",
       "    </tr>\n",
       "    <tr>\n",
       "      <th>2</th>\n",
       "      <td>Hotel 3</td>\n",
       "      <td>200</td>\n",
       "      <td>8.7</td>\n",
       "      <td>2</td>\n",
       "    </tr>\n",
       "    <tr>\n",
       "      <th>3</th>\n",
       "      <td>Hotel 4</td>\n",
       "      <td>70</td>\n",
       "      <td>4.5</td>\n",
       "      <td>5</td>\n",
       "    </tr>\n",
       "  </tbody>\n",
       "</table>\n",
       "</div>"
      ],
      "text/plain": [
       "  Alternativas  Preço  Nota  Localização\n",
       "0      Hotel 1    700   9.2            9\n",
       "1      Hotel 2    350   8.0            7\n",
       "2      Hotel 3    200   8.7            2\n",
       "3      Hotel 4     70   4.5            5"
      ]
     },
     "execution_count": 44,
     "metadata": {},
     "output_type": "execute_result"
    }
   ],
   "source": [
    "# Matriz de decisão  \n",
    "d = {'Alternativas': ['Hotel 1', 'Hotel 2', 'Hotel 3', 'Hotel 4'],\n",
    "     'Preço': [700, 350, 200, 70],\n",
    "     'Nota': [9.2, 8, 8.7, 4.5], \n",
    "     'Localização': [9, 7, 2, 5]\n",
    "    }\n",
    "crit_max= [False, True, True]\n",
    "df = pd.DataFrame(data=d)\n",
    "df"
   ]
  },
  {
   "cell_type": "code",
   "execution_count": 45,
   "metadata": {
    "hidden": true
   },
   "outputs": [
    {
     "name": "stdout",
     "output_type": "stream",
     "text": [
      "Sua Preferência\n",
      "Prefere Preço do que Nota em 5\n",
      "Prefere Preço do que Localização em 7\n",
      "Prefere Nota do que Localização em 3\n",
      "--------------------------------------------------\n",
      "A razão de consistência é  0.05593756885587789\n",
      " \n",
      "A matriz é consistente: \n",
      " \n",
      "O vetor de prioridades é v: [0.73064467 0.1883941  0.08096123]\n",
      " \n",
      "1° Hotel 1\n",
      "2° Hotel 2\n",
      "3° Hotel 3\n",
      "4° Hotel 4\n"
     ]
    },
    {
     "data": {
      "text/html": [
       "<div>\n",
       "<style scoped>\n",
       "    .dataframe tbody tr th:only-of-type {\n",
       "        vertical-align: middle;\n",
       "    }\n",
       "\n",
       "    .dataframe tbody tr th {\n",
       "        vertical-align: top;\n",
       "    }\n",
       "\n",
       "    .dataframe thead th {\n",
       "        text-align: right;\n",
       "    }\n",
       "</style>\n",
       "<table border=\"1\" class=\"dataframe\">\n",
       "  <thead>\n",
       "    <tr style=\"text-align: right;\">\n",
       "      <th></th>\n",
       "      <th>Alternativas</th>\n",
       "      <th>Preço</th>\n",
       "      <th>Nota</th>\n",
       "      <th>Localização</th>\n",
       "      <th>Ordenamento_saw</th>\n",
       "    </tr>\n",
       "  </thead>\n",
       "  <tbody>\n",
       "    <tr>\n",
       "      <th>0</th>\n",
       "      <td>Hotel 1</td>\n",
       "      <td>700</td>\n",
       "      <td>9.2</td>\n",
       "      <td>9</td>\n",
       "      <td>513.91</td>\n",
       "    </tr>\n",
       "    <tr>\n",
       "      <th>1</th>\n",
       "      <td>Hotel 2</td>\n",
       "      <td>350</td>\n",
       "      <td>8.0</td>\n",
       "      <td>7</td>\n",
       "      <td>257.80</td>\n",
       "    </tr>\n",
       "    <tr>\n",
       "      <th>2</th>\n",
       "      <td>Hotel 3</td>\n",
       "      <td>200</td>\n",
       "      <td>8.7</td>\n",
       "      <td>2</td>\n",
       "      <td>147.93</td>\n",
       "    </tr>\n",
       "    <tr>\n",
       "      <th>3</th>\n",
       "      <td>Hotel 4</td>\n",
       "      <td>70</td>\n",
       "      <td>4.5</td>\n",
       "      <td>5</td>\n",
       "      <td>52.40</td>\n",
       "    </tr>\n",
       "  </tbody>\n",
       "</table>\n",
       "</div>"
      ],
      "text/plain": [
       "  Alternativas  Preço  Nota  Localização  Ordenamento_saw\n",
       "0      Hotel 1    700   9.2            9           513.91\n",
       "1      Hotel 2    350   8.0            7           257.80\n",
       "2      Hotel 3    200   8.7            2           147.93\n",
       "3      Hotel 4     70   4.5            5            52.40"
      ]
     },
     "execution_count": 45,
     "metadata": {},
     "output_type": "execute_result"
    }
   ],
   "source": [
    "df = ahp_alternativas_saw(frame=df, crit=crit_max)\n",
    "df"
   ]
  },
  {
   "cell_type": "markdown",
   "metadata": {
    "heading_collapsed": true
   },
   "source": [
    "# Misturando AHP e Topsis"
   ]
  },
  {
   "cell_type": "code",
   "execution_count": 46,
   "metadata": {
    "hidden": true
   },
   "outputs": [],
   "source": [
    "def ahp_topsis(crit, frame):\n",
    "    # Realizar o AHP\n",
    "    vetor_P = ahp_criterios(frame=frame)\n",
    "    \n",
    "    # Realizar o Topsis\n",
    "    frame = topsis(crit=crit, peso=vetor_P, frame=frame)\n",
    "    \n",
    "    return frame"
   ]
  },
  {
   "cell_type": "code",
   "execution_count": 47,
   "metadata": {
    "hidden": true
   },
   "outputs": [
    {
     "data": {
      "text/html": [
       "<div>\n",
       "<style scoped>\n",
       "    .dataframe tbody tr th:only-of-type {\n",
       "        vertical-align: middle;\n",
       "    }\n",
       "\n",
       "    .dataframe tbody tr th {\n",
       "        vertical-align: top;\n",
       "    }\n",
       "\n",
       "    .dataframe thead th {\n",
       "        text-align: right;\n",
       "    }\n",
       "</style>\n",
       "<table border=\"1\" class=\"dataframe\">\n",
       "  <thead>\n",
       "    <tr style=\"text-align: right;\">\n",
       "      <th></th>\n",
       "      <th>Alternativas</th>\n",
       "      <th>Preço</th>\n",
       "      <th>Nota</th>\n",
       "      <th>Localização</th>\n",
       "    </tr>\n",
       "  </thead>\n",
       "  <tbody>\n",
       "    <tr>\n",
       "      <th>0</th>\n",
       "      <td>Hotel 1</td>\n",
       "      <td>700</td>\n",
       "      <td>9.2</td>\n",
       "      <td>9</td>\n",
       "    </tr>\n",
       "    <tr>\n",
       "      <th>1</th>\n",
       "      <td>Hotel 2</td>\n",
       "      <td>350</td>\n",
       "      <td>8.0</td>\n",
       "      <td>7</td>\n",
       "    </tr>\n",
       "    <tr>\n",
       "      <th>2</th>\n",
       "      <td>Hotel 3</td>\n",
       "      <td>200</td>\n",
       "      <td>8.7</td>\n",
       "      <td>2</td>\n",
       "    </tr>\n",
       "    <tr>\n",
       "      <th>3</th>\n",
       "      <td>Hotel 4</td>\n",
       "      <td>70</td>\n",
       "      <td>4.5</td>\n",
       "      <td>5</td>\n",
       "    </tr>\n",
       "  </tbody>\n",
       "</table>\n",
       "</div>"
      ],
      "text/plain": [
       "  Alternativas  Preço  Nota  Localização\n",
       "0      Hotel 1    700   9.2            9\n",
       "1      Hotel 2    350   8.0            7\n",
       "2      Hotel 3    200   8.7            2\n",
       "3      Hotel 4     70   4.5            5"
      ]
     },
     "execution_count": 47,
     "metadata": {},
     "output_type": "execute_result"
    }
   ],
   "source": [
    "# Matriz de decisão  \n",
    "d = {'Alternativas': ['Hotel 1', 'Hotel 2', 'Hotel 3', 'Hotel 4'],\n",
    "     'Preço': [700, 350, 200, 70],\n",
    "     'Nota': [9.2, 8, 8.7, 4.5], \n",
    "     'Localização': [9, 7, 2, 5]\n",
    "    }\n",
    "\n",
    "df = pd.DataFrame(data=d)\n",
    "df"
   ]
  },
  {
   "cell_type": "code",
   "execution_count": 48,
   "metadata": {
    "hidden": true
   },
   "outputs": [],
   "source": [
    "crit_max = [False, True, True]"
   ]
  },
  {
   "cell_type": "code",
   "execution_count": 49,
   "metadata": {
    "hidden": true
   },
   "outputs": [
    {
     "name": "stdout",
     "output_type": "stream",
     "text": [
      "Sua Preferência\n",
      "Prefere Preço do que Nota em 5\n",
      "Prefere Preço do que Localização em 7\n",
      "Prefere Nota do que Localização em 3\n",
      "--------------------------------------------------\n",
      "A razão de consistência é  0.05593756885587789\n",
      " \n",
      "A matriz é consistente: \n",
      " \n",
      "O vetor de prioridades é v: [0.73064467 0.1883941  0.08096123]\n",
      " \n",
      "1° Lugar --> Hotel 4\n",
      "2° Lugar --> Hotel 3\n",
      "3° Lugar --> Hotel 2\n",
      "4° Lugar --> Hotel 1\n"
     ]
    }
   ],
   "source": [
    "df = ahp_topsis(crit=crit_max, frame=df)"
   ]
  },
  {
   "cell_type": "code",
   "execution_count": 50,
   "metadata": {
    "hidden": true
   },
   "outputs": [
    {
     "data": {
      "text/html": [
       "<div>\n",
       "<style scoped>\n",
       "    .dataframe tbody tr th:only-of-type {\n",
       "        vertical-align: middle;\n",
       "    }\n",
       "\n",
       "    .dataframe tbody tr th {\n",
       "        vertical-align: top;\n",
       "    }\n",
       "\n",
       "    .dataframe thead th {\n",
       "        text-align: right;\n",
       "    }\n",
       "</style>\n",
       "<table border=\"1\" class=\"dataframe\">\n",
       "  <thead>\n",
       "    <tr style=\"text-align: right;\">\n",
       "      <th></th>\n",
       "      <th>Alternativas</th>\n",
       "      <th>Preço</th>\n",
       "      <th>Nota</th>\n",
       "      <th>Localização</th>\n",
       "      <th>Ordenamento_topsis</th>\n",
       "    </tr>\n",
       "  </thead>\n",
       "  <tbody>\n",
       "    <tr>\n",
       "      <th>0</th>\n",
       "      <td>Hotel 1</td>\n",
       "      <td>700</td>\n",
       "      <td>9.2</td>\n",
       "      <td>9</td>\n",
       "      <td>0.112950</td>\n",
       "    </tr>\n",
       "    <tr>\n",
       "      <th>1</th>\n",
       "      <td>Hotel 2</td>\n",
       "      <td>350</td>\n",
       "      <td>8.0</td>\n",
       "      <td>7</td>\n",
       "      <td>0.558268</td>\n",
       "    </tr>\n",
       "    <tr>\n",
       "      <th>2</th>\n",
       "      <td>Hotel 3</td>\n",
       "      <td>200</td>\n",
       "      <td>8.7</td>\n",
       "      <td>2</td>\n",
       "      <td>0.783050</td>\n",
       "    </tr>\n",
       "    <tr>\n",
       "      <th>3</th>\n",
       "      <td>Hotel 4</td>\n",
       "      <td>70</td>\n",
       "      <td>4.5</td>\n",
       "      <td>5</td>\n",
       "      <td>0.901350</td>\n",
       "    </tr>\n",
       "  </tbody>\n",
       "</table>\n",
       "</div>"
      ],
      "text/plain": [
       "  Alternativas  Preço  Nota  Localização  Ordenamento_topsis\n",
       "0      Hotel 1    700   9.2            9            0.112950\n",
       "1      Hotel 2    350   8.0            7            0.558268\n",
       "2      Hotel 3    200   8.7            2            0.783050\n",
       "3      Hotel 4     70   4.5            5            0.901350"
      ]
     },
     "execution_count": 50,
     "metadata": {},
     "output_type": "execute_result"
    }
   ],
   "source": [
    "df"
   ]
  },
  {
   "cell_type": "markdown",
   "metadata": {},
   "source": [
    "# PROMETHEE"
   ]
  },
  {
   "cell_type": "markdown",
   "metadata": {
    "heading_collapsed": true
   },
   "source": [
    "## Função de Preferência\n"
   ]
  },
  {
   "cell_type": "markdown",
   "metadata": {
    "hidden": true
   },
   "source": [
    "\n",
    "$P_j(a,b) = F_j[d_j(a,b)]$\n",
    "\n",
    "### Usual\n",
    "Sempre que a distância entre duas alternativas for positiva há uma preferencia entre as alternativas. **Relação binária**"
   ]
  },
  {
   "cell_type": "code",
   "execution_count": 51,
   "metadata": {
    "hidden": true
   },
   "outputs": [],
   "source": [
    "def plot_preferencia(xvalor, yvalor, nome):\n",
    "    plt.plot(xvalor, yvalor, 'red')\n",
    "    plt.title(nome)\n",
    "    plt.yticks([1, 1.2])\n",
    "    plt.yticks([]) \n",
    "    plt.xticks([0, 1.1])\n",
    "    plt.xticks([])"
   ]
  },
  {
   "cell_type": "code",
   "execution_count": 52,
   "metadata": {
    "hidden": true
   },
   "outputs": [
    {
     "data": {
      "image/png": "[encoded data removed]",
      "text/plain": [
       "<Figure size 216x144 with 1 Axes>"
      ]
     },
     "metadata": {},
     "output_type": "display_data"
    }
   ],
   "source": [
    "x = (0, 0, 1)\n",
    "y = (0, 1, 1)\n",
    "plt.figure(figsize=(3,2))\n",
    "plot_preferencia(xvalor=x, yvalor=y, nome='usual')"
   ]
  },
  {
   "cell_type": "markdown",
   "metadata": {
    "hidden": true
   },
   "source": [
    "\n",
    "### Formato U\n",
    "Se a distância estiver abaixo de um limiar a alternativa A não são preferiveis com B.\n",
    "\n",
    "No momento que atingir esse limiar a alternativa B passa a ser preferivel em relação a A"
   ]
  },
  {
   "cell_type": "code",
   "execution_count": 53,
   "metadata": {
    "hidden": true
   },
   "outputs": [
    {
     "data": {
      "image/png": "[encoded data removed]",
      "text/plain": [
       "<Figure size 216x144 with 1 Axes>"
      ]
     },
     "metadata": {},
     "output_type": "display_data"
    }
   ],
   "source": [
    "x = (0, 1, 1, 2)\n",
    "y = (0, 0, 1, 1)\n",
    "plt.figure(figsize=(3,2))\n",
    "plot_preferencia(xvalor=x, yvalor=y, nome='u')"
   ]
  },
  {
   "cell_type": "markdown",
   "metadata": {
    "hidden": true
   },
   "source": [
    "\n",
    "### Formato V\n",
    "A preferencia vai crescendo até um limiar (de maneira linear). Se a diferença for Zero o grau de preferencia também é zero. A medida que a diferença entre as duas alternativas começarem a aumentar, há aumento da preferencia até atingir o limiar que resulta na preferencia plena em uma alterenativa."
   ]
  },
  {
   "cell_type": "code",
   "execution_count": 54,
   "metadata": {
    "hidden": true
   },
   "outputs": [
    {
     "data": {
      "image/png": "[encoded data removed]",
      "text/plain": [
       "<Figure size 216x144 with 1 Axes>"
      ]
     },
     "metadata": {},
     "output_type": "display_data"
    }
   ],
   "source": [
    "x = (0, 1, 2)\n",
    "y = (0, 1, 1)\n",
    "plt.figure(figsize=(3,2))\n",
    "plot_preferencia(xvalor=x, yvalor=y, nome='v')"
   ]
  },
  {
   "cell_type": "code",
   "execution_count": null,
   "metadata": {
    "hidden": true
   },
   "outputs": [],
   "source": []
  },
  {
   "cell_type": "code",
   "execution_count": 55,
   "metadata": {
    "hidden": true
   },
   "outputs": [
    {
     "data": {
      "image/png": "[encoded data removed]",
      "text/plain": [
       "<Figure size 216x144 with 1 Axes>"
      ]
     },
     "metadata": {},
     "output_type": "display_data"
    }
   ],
   "source": [
    "x = (0, 0.5, 0.5, 1, 1, 1.5)\n",
    "y = (0, 0, 0.5, 0.5, 1, 1)\n",
    "plt.figure(figsize=(3,2))\n",
    "plot_preferencia(xvalor=x, yvalor=y, nome='niveis')"
   ]
  },
  {
   "cell_type": "code",
   "execution_count": 56,
   "metadata": {
    "hidden": true
   },
   "outputs": [
    {
     "data": {
      "image/png": "[encoded data removed]",
      "text/plain": [
       "<Figure size 216x144 with 1 Axes>"
      ]
     },
     "metadata": {},
     "output_type": "display_data"
    }
   ],
   "source": [
    "x = (0, 0.5, 1, 1.5)\n",
    "y = (0, 0,1, 1)\n",
    "plt.figure(figsize=(3,2))\n",
    "plot_preferencia(xvalor=x, yvalor=y, nome='linear')"
   ]
  },
  {
   "cell_type": "code",
   "execution_count": 57,
   "metadata": {
    "hidden": true
   },
   "outputs": [],
   "source": [
    "def tipos_de_preferencias():\n",
    "    # para Gaussiana\n",
    "    mu = 0\n",
    "    variance = 1\n",
    "    sigma = math.sqrt(variance)\n",
    "    ex = np.linspace(mu - 3.4*sigma, mu + 3.4*sigma, 100)\n",
    "    ex = ex[ex<0]\n",
    "    ey = (stats.norm.pdf(ex, mu, sigma))*2.2    \n",
    "    \n",
    "    lista_x = [(0, 0, 1), (0, 1, 1, 2), (0, 1, 2), (0, 0.5, 0.5, 1, 1, 1.5), (0, 0.5, 1, 1.5), ex]\n",
    "    lista_y = [(0, 1, 1), (0, 0, 1, 1), (0, 1, 1), (0, 0, 0.5, 0.5, 1, 1), (0, 0,1, 1), ey]\n",
    "    nomes = ['usual', 'u', 'v', 'niveis', 'linear', 'gauss']    \n",
    "\n",
    "    def plot_preferencia(xvalor, yvalor, nome):\n",
    "        plt.plot(xvalor, yvalor, 'red')\n",
    "        plt.title(nome)\n",
    "        plt.yticks([1, 1.2])\n",
    "        plt.yticks([]) \n",
    "        plt.xticks([0, 1.1])\n",
    "        plt.xticks([])\n",
    "\n",
    "    fig, axs = plt.subplots(2, 3, figsize=(6, 3))\n",
    "    for x, y, i, k in zip(lista_x, lista_y, nomes, range(1, 7)):\n",
    "        plt.subplot(2, 3, k)\n",
    "        plot_preferencia(xvalor=x, yvalor=y, nome=i)\n",
    "    plt.tight_layout()"
   ]
  },
  {
   "cell_type": "code",
   "execution_count": 58,
   "metadata": {
    "hidden": true
   },
   "outputs": [
    {
     "data": {
      "image/png": "[encoded data removed]",
      "text/plain": [
       "<Figure size 432x216 with 6 Axes>"
      ]
     },
     "metadata": {},
     "output_type": "display_data"
    }
   ],
   "source": [
    "tipos_de_preferencias()"
   ]
  },
  {
   "cell_type": "markdown",
   "metadata": {},
   "source": [
    "## Segunda parte"
   ]
  },
  {
   "cell_type": "code",
   "execution_count": 120,
   "metadata": {},
   "outputs": [],
   "source": [
    "# Tabela apresentada \n",
    "d = {'Alternativas': ['A1', 'A2', 'A3', 'A4'],\n",
    "     'Preço': [18000, 20500, 24700, 22800],\n",
    "     'Conforto': ['Baixa', 'Médio', 'Médio', 'Alto'], \n",
    "     'Potência': [8, 5, 4, 7]\n",
    "    }\n",
    "# Critério\n",
    "crit_max = [False, True, True]\n",
    "frame = pd.DataFrame(data=d)\n",
    "# Pesos: w\n",
    "w = [0.5, 0.2, 0.3]"
   ]
  },
  {
   "cell_type": "code",
   "execution_count": 121,
   "metadata": {},
   "outputs": [
    {
     "data": {
      "text/html": [
       "<div>\n",
       "<style scoped>\n",
       "    .dataframe tbody tr th:only-of-type {\n",
       "        vertical-align: middle;\n",
       "    }\n",
       "\n",
       "    .dataframe tbody tr th {\n",
       "        vertical-align: top;\n",
       "    }\n",
       "\n",
       "    .dataframe thead th {\n",
       "        text-align: right;\n",
       "    }\n",
       "</style>\n",
       "<table border=\"1\" class=\"dataframe\">\n",
       "  <thead>\n",
       "    <tr style=\"text-align: right;\">\n",
       "      <th></th>\n",
       "      <th>Alternativas</th>\n",
       "      <th>Preço</th>\n",
       "      <th>Conforto</th>\n",
       "      <th>Potência</th>\n",
       "    </tr>\n",
       "  </thead>\n",
       "  <tbody>\n",
       "    <tr>\n",
       "      <th>0</th>\n",
       "      <td>A1</td>\n",
       "      <td>18000</td>\n",
       "      <td>Baixa</td>\n",
       "      <td>8</td>\n",
       "    </tr>\n",
       "    <tr>\n",
       "      <th>1</th>\n",
       "      <td>A2</td>\n",
       "      <td>20500</td>\n",
       "      <td>Médio</td>\n",
       "      <td>5</td>\n",
       "    </tr>\n",
       "    <tr>\n",
       "      <th>2</th>\n",
       "      <td>A3</td>\n",
       "      <td>24700</td>\n",
       "      <td>Médio</td>\n",
       "      <td>4</td>\n",
       "    </tr>\n",
       "    <tr>\n",
       "      <th>3</th>\n",
       "      <td>A4</td>\n",
       "      <td>22800</td>\n",
       "      <td>Alto</td>\n",
       "      <td>7</td>\n",
       "    </tr>\n",
       "  </tbody>\n",
       "</table>\n",
       "</div>"
      ],
      "text/plain": [
       "  Alternativas  Preço Conforto  Potência\n",
       "0           A1  18000    Baixa         8\n",
       "1           A2  20500    Médio         5\n",
       "2           A3  24700    Médio         4\n",
       "3           A4  22800     Alto         7"
      ]
     },
     "execution_count": 121,
     "metadata": {},
     "output_type": "execute_result"
    }
   ],
   "source": [
    "frame"
   ]
  },
  {
   "cell_type": "code",
   "execution_count": 122,
   "metadata": {},
   "outputs": [],
   "source": [
    "def nao_numerico(frame):\n",
    "    frame.co\n",
    "    "
   ]
  },
  {
   "cell_type": "code",
   "execution_count": 89,
   "metadata": {},
   "outputs": [
    {
     "data": {
      "text/plain": [
       "'Preço'"
      ]
     },
     "execution_count": 89,
     "metadata": {},
     "output_type": "execute_result"
    }
   ],
   "source": [
    "# Mano o que eu preciso fazer é trocar o início do código\n",
    "# estou fazendo de acordo com o AHP que pegunta qual a preferencia do decisor sobre as alternativas,\n",
    "# mas o Promethe não faz isso. O método é de acordo com a preferencia dos criterios \"usual, u, v......\""
   ]
  },
  {
   "cell_type": "code",
   "execution_count": 123,
   "metadata": {},
   "outputs": [],
   "source": [
    "coluna_str = []\n",
    "for i, j in enumerate(frame.loc[0, frame.columns[1:]]):\n",
    "    if type(j) == str:\n",
    "        coluna_str.append(frame.columns[i+1])"
   ]
  },
  {
   "cell_type": "code",
   "execution_count": 124,
   "metadata": {},
   "outputs": [
    {
     "data": {
      "text/plain": [
       "['Conforto']"
      ]
     },
     "execution_count": 124,
     "metadata": {},
     "output_type": "execute_result"
    }
   ],
   "source": [
    "coluna_str"
   ]
  },
  {
   "cell_type": "code",
   "execution_count": 125,
   "metadata": {},
   "outputs": [],
   "source": [
    "# Precisa definir quais são os tipos de  ordem por str \n",
    "nota = ('Alto', 'Médio','Baixa')\n",
    "nota_nova = ('1', '2', '3')\n",
    "frame_ex = frame.copy() \n",
    "for i, y in zip(nota, nota_nova):\n",
    "    frame_ex = frame_ex.replace(i, y)"
   ]
  },
  {
   "cell_type": "code",
   "execution_count": 127,
   "metadata": {},
   "outputs": [
    {
     "data": {
      "text/html": [
       "<div>\n",
       "<style scoped>\n",
       "    .dataframe tbody tr th:only-of-type {\n",
       "        vertical-align: middle;\n",
       "    }\n",
       "\n",
       "    .dataframe tbody tr th {\n",
       "        vertical-align: top;\n",
       "    }\n",
       "\n",
       "    .dataframe thead th {\n",
       "        text-align: right;\n",
       "    }\n",
       "</style>\n",
       "<table border=\"1\" class=\"dataframe\">\n",
       "  <thead>\n",
       "    <tr style=\"text-align: right;\">\n",
       "      <th></th>\n",
       "      <th>Alternativas</th>\n",
       "      <th>Preço</th>\n",
       "      <th>Conforto</th>\n",
       "      <th>Potência</th>\n",
       "    </tr>\n",
       "  </thead>\n",
       "  <tbody>\n",
       "    <tr>\n",
       "      <th>0</th>\n",
       "      <td>A1</td>\n",
       "      <td>18000</td>\n",
       "      <td>3</td>\n",
       "      <td>8</td>\n",
       "    </tr>\n",
       "    <tr>\n",
       "      <th>1</th>\n",
       "      <td>A2</td>\n",
       "      <td>20500</td>\n",
       "      <td>2</td>\n",
       "      <td>5</td>\n",
       "    </tr>\n",
       "    <tr>\n",
       "      <th>2</th>\n",
       "      <td>A3</td>\n",
       "      <td>24700</td>\n",
       "      <td>2</td>\n",
       "      <td>4</td>\n",
       "    </tr>\n",
       "    <tr>\n",
       "      <th>3</th>\n",
       "      <td>A4</td>\n",
       "      <td>22800</td>\n",
       "      <td>1</td>\n",
       "      <td>7</td>\n",
       "    </tr>\n",
       "  </tbody>\n",
       "</table>\n",
       "</div>"
      ],
      "text/plain": [
       "  Alternativas  Preço Conforto  Potência\n",
       "0           A1  18000        3         8\n",
       "1           A2  20500        2         5\n",
       "2           A3  24700        2         4\n",
       "3           A4  22800        1         7"
      ]
     },
     "execution_count": 127,
     "metadata": {},
     "output_type": "execute_result"
    }
   ],
   "source": [
    "frame_ex"
   ]
  },
  {
   "cell_type": "code",
   "execution_count": null,
   "metadata": {},
   "outputs": [],
   "source": [
    "replace()"
   ]
  },
  {
   "cell_type": "code",
   "execution_count": 61,
   "metadata": {},
   "outputs": [],
   "source": [
    "def usual(frame, coluna, i, j, matriz, sua_matriz):\n",
    "    q1 = frame.loc[i, frame.columns[0]]\n",
    "    q2 = frame.loc[j, frame.columns[0]]\n",
    "    if j > i:\n",
    "        print(f'****Escolha entre as Alternativas no Critério {frame.columns[coluna]}****')\n",
    "        print('Você prefere', '\\033[91m'+f'{q1}'+'\\033[0m', f'({frame.loc[i, frame.columns[coluna]]}) --> 1')\n",
    "        print('Ou prefere', '\\033[91m'+f'{q2}'+'\\033[0m', f'({frame.loc[j, frame.columns[coluna]]}) --> 0')\n",
    "        print('\\033[91m'+'NÃO TEM PREFERENCIA'+'\\033[0m', '--> 9')\n",
    "        while True:\n",
    "            try:\n",
    "                resposta = int(input('Resposta: '))\n",
    "                if resposta == 0:\n",
    "                    matriz[i, j] = 0\n",
    "                    sua_matriz.append(f'Prefiro {q1} do que {q2}')\n",
    "                    break\n",
    "                elif resposta == 1:\n",
    "                    matriz[i, j] = 1\n",
    "                    sua_matriz.append(f'Prefiro {q2} do que {q1}')\n",
    "                    break\n",
    "                elif resposta == 9:\n",
    "                    matriz[i, j] = np.nan\n",
    "                    sua_matriz.append(f'Não tenho preferencia {q2} do que {q1}')\n",
    "                    break\n",
    "                else:\n",
    "                    print('\\033[91m' + \"------ERRO!!!------\" + '\\033[0m')\n",
    "                    print('Preferência entre as Alternativas é 0 ou 1')\n",
    "                    print('\\033[91m' + \"------ERRO!!!------\" + '\\033[0m')\n",
    "            except ValueError:\n",
    "                print('\\033[91m' + \"------ERRO!!!------\" + '\\033[0m')\n",
    "                print('Preferência entre as Alternativas é 0 ou 1')\n",
    "                print('\\033[91m' + \"------ERRO!!!------\" + '\\033[0m')\n",
    "        print('   Loading...')\n",
    "        time.sleep(1.2)  # Sleep for 1 seconds\n",
    "        clear_output()  # apaga o comentário feito anteriormente\n",
    "    elif j < i:\n",
    "        if matriz[j, i] == 1:\n",
    "            matriz[i, j] = 0\n",
    "        elif matriz[j, i] == 0:\n",
    "            matriz[i, j] = 1\n",
    "        else:\n",
    "            matriz[i, j] = np.nan\n",
    "    \n",
    "    return matriz, sua_matriz"
   ]
  },
  {
   "cell_type": "code",
   "execution_count": 62,
   "metadata": {},
   "outputs": [],
   "source": [
    "def conjunto_matriz(frame, preferencia):\n",
    "    # juntar todas as respostas\n",
    "    resultado = []\n",
    "    resultado_sua_matriz = []\n",
    "    for k in range(1, len(frame.columns)):\n",
    "        # Tamanho da Matriz de decisão\n",
    "        tamanho = len(frame)\n",
    "\n",
    "        # Matriz da comparação par a par dos critérios\n",
    "        matriz = np.zeros((tamanho, tamanho), dtype=float)\n",
    "        # Resultado da sua matriz \n",
    "        sua_matriz = []\n",
    "\n",
    "        for i in range(tamanho):\n",
    "            for j in range(tamanho):\n",
    "                # Escolher qual a Matriz de Preferencia\n",
    "                if preferencia == 'usual':\n",
    "                    matriz, sua_matriz = usual(frame, k, i, j, matriz, sua_matriz)\n",
    "        print('   Loading...')\n",
    "        time.sleep(1.5) # Sleep for 1 seconds\n",
    "        clear_output()\n",
    "        # pega os valores NAN da matriz e transforma em zeros\n",
    "        # faço isso devido a escolha de empate das alternativas quando colocado == \"9\"\n",
    "        matriz = np.nan_to_num(matriz, nan=0.0)        \n",
    "        resultado.append(matriz)\n",
    "        resultado_sua_matriz.append(sua_matriz)\n",
    "    print('Fim!')\n",
    "    return resultado, resultado_sua_matriz"
   ]
  },
  {
   "cell_type": "code",
   "execution_count": 63,
   "metadata": {
    "collapsed": true
   },
   "outputs": [
    {
     "name": "stdout",
     "output_type": "stream",
     "text": [
      "****Escolha entre as Alternativas no Critério Conforto****\n",
      "Você prefere \u001b[91mA2\u001b[0m (Médio) --> 1\n",
      "Ou prefere \u001b[91mA4\u001b[0m (Alto) --> 0\n",
      "\u001b[91mNÃO TEM PREFERENCIA\u001b[0m --> 9\n"
     ]
    },
    {
     "ename": "KeyboardInterrupt",
     "evalue": "Interrupted by user",
     "output_type": "error",
     "traceback": [
      "\u001b[1;31m---------------------------------------------------------------------------\u001b[0m",
      "\u001b[1;31mKeyboardInterrupt\u001b[0m                         Traceback (most recent call last)",
      "\u001b[1;32m<ipython-input-63-41de44f15f5d>\u001b[0m in \u001b[0;36m<module>\u001b[1;34m\u001b[0m\n\u001b[1;32m----> 1\u001b[1;33m \u001b[0mresultado\u001b[0m\u001b[1;33m,\u001b[0m \u001b[0mresultado_sua_matriz\u001b[0m \u001b[1;33m=\u001b[0m \u001b[0mconjunto_matriz\u001b[0m\u001b[1;33m(\u001b[0m\u001b[0mframe\u001b[0m\u001b[1;33m=\u001b[0m\u001b[0mframe\u001b[0m\u001b[1;33m,\u001b[0m \u001b[0mpreferencia\u001b[0m\u001b[1;33m=\u001b[0m\u001b[1;34m'usual'\u001b[0m\u001b[1;33m)\u001b[0m\u001b[1;33m\u001b[0m\u001b[1;33m\u001b[0m\u001b[0m\n\u001b[0m",
      "\u001b[1;32m<ipython-input-62-fb33f1667b2a>\u001b[0m in \u001b[0;36mconjunto_matriz\u001b[1;34m(frame, preferencia)\u001b[0m\n\u001b[0;32m     16\u001b[0m                 \u001b[1;31m# Escolher qual a Matriz de Preferencia\u001b[0m\u001b[1;33m\u001b[0m\u001b[1;33m\u001b[0m\u001b[1;33m\u001b[0m\u001b[0m\n\u001b[0;32m     17\u001b[0m                 \u001b[1;32mif\u001b[0m \u001b[0mpreferencia\u001b[0m \u001b[1;33m==\u001b[0m \u001b[1;34m'usual'\u001b[0m\u001b[1;33m:\u001b[0m\u001b[1;33m\u001b[0m\u001b[1;33m\u001b[0m\u001b[0m\n\u001b[1;32m---> 18\u001b[1;33m                     \u001b[0mmatriz\u001b[0m\u001b[1;33m,\u001b[0m \u001b[0msua_matriz\u001b[0m \u001b[1;33m=\u001b[0m \u001b[0musual\u001b[0m\u001b[1;33m(\u001b[0m\u001b[0mframe\u001b[0m\u001b[1;33m,\u001b[0m \u001b[0mk\u001b[0m\u001b[1;33m,\u001b[0m \u001b[0mi\u001b[0m\u001b[1;33m,\u001b[0m \u001b[0mj\u001b[0m\u001b[1;33m,\u001b[0m \u001b[0mmatriz\u001b[0m\u001b[1;33m,\u001b[0m \u001b[0msua_matriz\u001b[0m\u001b[1;33m)\u001b[0m\u001b[1;33m\u001b[0m\u001b[1;33m\u001b[0m\u001b[0m\n\u001b[0m\u001b[0;32m     19\u001b[0m         \u001b[0mprint\u001b[0m\u001b[1;33m(\u001b[0m\u001b[1;34m'   Loading...'\u001b[0m\u001b[1;33m)\u001b[0m\u001b[1;33m\u001b[0m\u001b[1;33m\u001b[0m\u001b[0m\n\u001b[0;32m     20\u001b[0m         \u001b[0mtime\u001b[0m\u001b[1;33m.\u001b[0m\u001b[0msleep\u001b[0m\u001b[1;33m(\u001b[0m\u001b[1;36m1.5\u001b[0m\u001b[1;33m)\u001b[0m \u001b[1;31m# Sleep for 1 seconds\u001b[0m\u001b[1;33m\u001b[0m\u001b[1;33m\u001b[0m\u001b[0m\n",
      "\u001b[1;32m<ipython-input-61-dbce6c663ab9>\u001b[0m in \u001b[0;36musual\u001b[1;34m(frame, coluna, i, j, matriz, sua_matriz)\u001b[0m\n\u001b[0;32m      9\u001b[0m         \u001b[1;32mwhile\u001b[0m \u001b[1;32mTrue\u001b[0m\u001b[1;33m:\u001b[0m\u001b[1;33m\u001b[0m\u001b[1;33m\u001b[0m\u001b[0m\n\u001b[0;32m     10\u001b[0m             \u001b[1;32mtry\u001b[0m\u001b[1;33m:\u001b[0m\u001b[1;33m\u001b[0m\u001b[1;33m\u001b[0m\u001b[0m\n\u001b[1;32m---> 11\u001b[1;33m                 \u001b[0mresposta\u001b[0m \u001b[1;33m=\u001b[0m \u001b[0mint\u001b[0m\u001b[1;33m(\u001b[0m\u001b[0minput\u001b[0m\u001b[1;33m(\u001b[0m\u001b[1;34m'Resposta: '\u001b[0m\u001b[1;33m)\u001b[0m\u001b[1;33m)\u001b[0m\u001b[1;33m\u001b[0m\u001b[1;33m\u001b[0m\u001b[0m\n\u001b[0m\u001b[0;32m     12\u001b[0m                 \u001b[1;32mif\u001b[0m \u001b[0mresposta\u001b[0m \u001b[1;33m==\u001b[0m \u001b[1;36m0\u001b[0m\u001b[1;33m:\u001b[0m\u001b[1;33m\u001b[0m\u001b[1;33m\u001b[0m\u001b[0m\n\u001b[0;32m     13\u001b[0m                     \u001b[0mmatriz\u001b[0m\u001b[1;33m[\u001b[0m\u001b[0mi\u001b[0m\u001b[1;33m,\u001b[0m \u001b[0mj\u001b[0m\u001b[1;33m]\u001b[0m \u001b[1;33m=\u001b[0m \u001b[1;36m0\u001b[0m\u001b[1;33m\u001b[0m\u001b[1;33m\u001b[0m\u001b[0m\n",
      "\u001b[1;32m~\\anaconda3\\lib\\site-packages\\ipykernel\\kernelbase.py\u001b[0m in \u001b[0;36mraw_input\u001b[1;34m(self, prompt)\u001b[0m\n\u001b[0;32m    858\u001b[0m                 \u001b[1;34m\"raw_input was called, but this frontend does not support input requests.\"\u001b[0m\u001b[1;33m\u001b[0m\u001b[1;33m\u001b[0m\u001b[0m\n\u001b[0;32m    859\u001b[0m             )\n\u001b[1;32m--> 860\u001b[1;33m         return self._input_request(str(prompt),\n\u001b[0m\u001b[0;32m    861\u001b[0m             \u001b[0mself\u001b[0m\u001b[1;33m.\u001b[0m\u001b[0m_parent_ident\u001b[0m\u001b[1;33m,\u001b[0m\u001b[1;33m\u001b[0m\u001b[1;33m\u001b[0m\u001b[0m\n\u001b[0;32m    862\u001b[0m             \u001b[0mself\u001b[0m\u001b[1;33m.\u001b[0m\u001b[0m_parent_header\u001b[0m\u001b[1;33m,\u001b[0m\u001b[1;33m\u001b[0m\u001b[1;33m\u001b[0m\u001b[0m\n",
      "\u001b[1;32m~\\anaconda3\\lib\\site-packages\\ipykernel\\kernelbase.py\u001b[0m in \u001b[0;36m_input_request\u001b[1;34m(self, prompt, ident, parent, password)\u001b[0m\n\u001b[0;32m    902\u001b[0m             \u001b[1;32mexcept\u001b[0m \u001b[0mKeyboardInterrupt\u001b[0m\u001b[1;33m:\u001b[0m\u001b[1;33m\u001b[0m\u001b[1;33m\u001b[0m\u001b[0m\n\u001b[0;32m    903\u001b[0m                 \u001b[1;31m# re-raise KeyboardInterrupt, to truncate traceback\u001b[0m\u001b[1;33m\u001b[0m\u001b[1;33m\u001b[0m\u001b[1;33m\u001b[0m\u001b[0m\n\u001b[1;32m--> 904\u001b[1;33m                 \u001b[1;32mraise\u001b[0m \u001b[0mKeyboardInterrupt\u001b[0m\u001b[1;33m(\u001b[0m\u001b[1;34m\"Interrupted by user\"\u001b[0m\u001b[1;33m)\u001b[0m \u001b[1;32mfrom\u001b[0m \u001b[1;32mNone\u001b[0m\u001b[1;33m\u001b[0m\u001b[1;33m\u001b[0m\u001b[0m\n\u001b[0m\u001b[0;32m    905\u001b[0m             \u001b[1;32mexcept\u001b[0m \u001b[0mException\u001b[0m \u001b[1;32mas\u001b[0m \u001b[0me\u001b[0m\u001b[1;33m:\u001b[0m\u001b[1;33m\u001b[0m\u001b[1;33m\u001b[0m\u001b[0m\n\u001b[0;32m    906\u001b[0m                 \u001b[0mself\u001b[0m\u001b[1;33m.\u001b[0m\u001b[0mlog\u001b[0m\u001b[1;33m.\u001b[0m\u001b[0mwarning\u001b[0m\u001b[1;33m(\u001b[0m\u001b[1;34m\"Invalid Message:\"\u001b[0m\u001b[1;33m,\u001b[0m \u001b[0mexc_info\u001b[0m\u001b[1;33m=\u001b[0m\u001b[1;32mTrue\u001b[0m\u001b[1;33m)\u001b[0m\u001b[1;33m\u001b[0m\u001b[1;33m\u001b[0m\u001b[0m\n",
      "\u001b[1;31mKeyboardInterrupt\u001b[0m: Interrupted by user"
     ]
    }
   ],
   "source": [
    "resultado, resultado_sua_matriz = conjunto_matriz(frame=frame, preferencia='usual')"
   ]
  },
  {
   "cell_type": "code",
   "execution_count": null,
   "metadata": {},
   "outputs": [],
   "source": [
    "resultado"
   ]
  },
  {
   "cell_type": "code",
   "execution_count": null,
   "metadata": {},
   "outputs": [],
   "source": [
    "# Matriz M \n",
    "# número de vitórias\n",
    "matriz = np.sum([i*k for i, k in zip(resultado,w)], axis=0)\n",
    "matriz"
   ]
  },
  {
   "cell_type": "code",
   "execution_count": null,
   "metadata": {},
   "outputs": [],
   "source": [
    "matriz_fluxo = [[np.sum(_)/(len(_)-1) for _ in matriz], [np.sum(_)/(len(_)-1) for _ in matriz.T]]\n",
    "matriz_fluxo"
   ]
  },
  {
   "cell_type": "code",
   "execution_count": null,
   "metadata": {},
   "outputs": [],
   "source": [
    "def estrutura_p(preferencia_p, matriz_fluxo, i, j):\n",
    "    if (matriz_fluxo[0][i] > matriz_fluxo[0][j]) & (matriz_fluxo[1][i] < matriz_fluxo[1][j]):\n",
    "        preferencia_p[i, j] = 1\n",
    "    elif (matriz_fluxo[0][i] == matriz_fluxo[0][j]) & (matriz_fluxo[1][i] < matriz_fluxo[1][j]):\n",
    "        preferencia_p[i, j] = 1\n",
    "    elif (matriz_fluxo[0][i] > matriz_fluxo[0][j]) & (matriz_fluxo[1][i] == matriz_fluxo[1][j]):\n",
    "        preferencia_p[i, j] = 1\n",
    "    else:\n",
    "        preferencia_p[i, j] = 0\n",
    "    return preferencia_p"
   ]
  },
  {
   "cell_type": "code",
   "execution_count": null,
   "metadata": {},
   "outputs": [],
   "source": [
    "def estrutura_i(preferencia_i, matriz_fluxo, i, j):\n",
    "    if (matriz_fluxo[0][i] == matriz_fluxo[0][j]) & (matriz_fluxo[1][i] == matriz_fluxo[1][j]):\n",
    "        preferencia_i[i, j] = 1\n",
    "    else:\n",
    "        preferencia_i[i, j] = 0\n",
    "    return preferencia_i"
   ]
  },
  {
   "cell_type": "code",
   "execution_count": null,
   "metadata": {},
   "outputs": [],
   "source": [
    "def estrutura_j(preferencia_j, matriz_fluxo, i, j):\n",
    "    if (matriz_fluxo[0][i] > matriz_fluxo[0][j]) & (matriz_fluxo[1][i] > matriz_fluxo[1][j]):\n",
    "        preferencia_j[i, j] = 1\n",
    "    elif (matriz_fluxo[0][i] < matriz_fluxo[0][j]) & (matriz_fluxo[1][i] < matriz_fluxo[1][j]):\n",
    "        preferencia_j[i, j] = 1\n",
    "    else:\n",
    "        preferencia_j[i, j] = 0\n",
    "    return preferencia_j"
   ]
  },
  {
   "cell_type": "code",
   "execution_count": null,
   "metadata": {},
   "outputs": [],
   "source": [
    "# criar as tabelas como apresentado na aula e depois fazer algo e depois o ordenamento e sei lá mais o que \n",
    "preferencia_p = np.zeros((len(matriz_fluxo[0]), len(matriz_fluxo[0])), dtype=float)\n",
    "preferencia_i = np.zeros((len(matriz_fluxo[0]), len(matriz_fluxo[0])), dtype=float)\n",
    "preferencia_j = np.zeros((len(matriz_fluxo[0]), len(matriz_fluxo[0])), dtype=float)\n",
    "for i in range(len(matriz_fluxo[0])):\n",
    "    for j in range(len(matriz_fluxo[0])):\n",
    "        preferencia_p = estrutura_p(preferencia_p, matriz_fluxo, i, j)\n",
    "        preferencia_i = estrutura_i(preferencia_i, matriz_fluxo, i, j)\n",
    "        preferencia_j = estrutura_j(preferencia_j, matriz_fluxo, i, j)"
   ]
  },
  {
   "cell_type": "code",
   "execution_count": null,
   "metadata": {},
   "outputs": [],
   "source": [
    "preferencia_p"
   ]
  },
  {
   "cell_type": "code",
   "execution_count": null,
   "metadata": {},
   "outputs": [],
   "source": [
    "preferencia_i"
   ]
  },
  {
   "cell_type": "code",
   "execution_count": null,
   "metadata": {},
   "outputs": [],
   "source": [
    "preferencia_j"
   ]
  },
  {
   "cell_type": "code",
   "execution_count": null,
   "metadata": {},
   "outputs": [],
   "source": []
  },
  {
   "cell_type": "code",
   "execution_count": null,
   "metadata": {},
   "outputs": [],
   "source": []
  },
  {
   "cell_type": "code",
   "execution_count": null,
   "metadata": {},
   "outputs": [],
   "source": []
  },
  {
   "cell_type": "code",
   "execution_count": null,
   "metadata": {},
   "outputs": [],
   "source": []
  },
  {
   "cell_type": "code",
   "execution_count": null,
   "metadata": {},
   "outputs": [],
   "source": []
  },
  {
   "cell_type": "code",
   "execution_count": null,
   "metadata": {},
   "outputs": [],
   "source": [
    "# juntar todas as respostas\n",
    "resultado = []\n",
    "# Tamanho da Matriz de decisão\n",
    "tamanho = len(frame)\n",
    "\n",
    "# Matriz da comparação par a par dos critérios\n",
    "matriz = np.zeros((tamanho, tamanho), dtype=float)\n",
    "\n",
    "# Matriz de preferencia\n",
    "preferencia = 'usual'\n",
    "sua_matriz = []\n",
    "\n",
    "for i in range(tamanho):\n",
    "    for j in range(tamanho):\n",
    "        if preferencia == 'usual':\n",
    "            matriz, sua_matriz = usual(frame, coluna, i, j, matriz, sua_matriz)\n",
    "    \n",
    "# pega os valores NAN da matriz e transforma em zeros\n",
    "# faço isso devido a escolha de empate das alternativas quando colocado == \"9\"\n",
    "matriz = np.nan_to_num(matriz, nan=0.0)"
   ]
  },
  {
   "cell_type": "code",
   "execution_count": null,
   "metadata": {},
   "outputs": [],
   "source": [
    "    \n",
    "time.sleep(8) # Sleep for 1 seconds\n",
    "print('   Loading...')\n",
    "clear_output()\n",
    "# Matriz de Decisão\n",
    "resultado = np.array(resultado)"
   ]
  },
  {
   "cell_type": "code",
   "execution_count": null,
   "metadata": {},
   "outputs": [],
   "source": []
  },
  {
   "cell_type": "code",
   "execution_count": null,
   "metadata": {},
   "outputs": [],
   "source": []
  },
  {
   "cell_type": "code",
   "execution_count": null,
   "metadata": {},
   "outputs": [],
   "source": []
  },
  {
   "cell_type": "code",
   "execution_count": null,
   "metadata": {},
   "outputs": [],
   "source": []
  }
 ],
 "metadata": {
  "kernelspec": {
   "display_name": "Python 3",
   "language": "python",
   "name": "python3"
  },
  "language_info": {
   "codemirror_mode": {
    "name": "ipython",
    "version": 3
   },
   "file_extension": ".py",
   "mimetype": "text/x-python",
   "name": "python",
   "nbconvert_exporter": "python",
   "pygments_lexer": "ipython3",
   "version": "3.8.8"
  },
  "varInspector": {
   "cols": {
    "lenName": 16,
    "lenType": 16,
    "lenVar": 40
   },
   "kernels_config": {
    "python": {
     "delete_cmd_postfix": "",
     "delete_cmd_prefix": "del ",
     "library": "var_list.py",
     "varRefreshCmd": "print(var_dic_list())"
    },
    "r": {
     "delete_cmd_postfix": ") ",
     "delete_cmd_prefix": "rm(",
     "library": "var_list.r",
     "varRefreshCmd": "cat(var_dic_list()) "
    }
   },
   "types_to_exclude": [
    "module",
    "function",
    "builtin_function_or_method",
    "instance",
    "_Feature"
   ],
   "window_display": false
  }
 },
 "nbformat": 4,
 "nbformat_minor": 4
}
