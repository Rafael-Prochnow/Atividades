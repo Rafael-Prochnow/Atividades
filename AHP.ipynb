{
 "cells": [
  {
   "cell_type": "markdown",
   "metadata": {
    "id": "b3cS8NGgm4mj"
   },
   "source": [
    "FCA - UNICAMP\n",
    "\n",
    "Disciplina: PO-460 e ER-460\n",
    "\n",
    "Introdução ao método **AHP**"
   ]
  },
  {
   "cell_type": "code",
   "execution_count": 1,
   "metadata": {
    "id": "GiByz931m2xK"
   },
   "outputs": [],
   "source": [
    "#Importando os pacotes do Python que serão utilizados\n",
    "import numpy as np  # pacote numpy importado com o apelido de np\n",
    "import cmath # pacote cmath faz operações com numeros complexos"
   ]
  },
  {
   "cell_type": "code",
   "execution_count": 1,
   "metadata": {
    "colab": {
     "base_uri": "https://localhost:8080/"
    },
    "id": "eyUSWw4uolYP",
    "outputId": "8e112da7-781c-4b55-9ea8-6c8ff2bd88d7"
   },
   "outputs": [
    {
     "name": "stdout",
     "output_type": "stream",
     "text": [
      "[[1, 1, 3], [1, 1, 0.14285714285714285], [0.3333333333333333, 7, 1]]\n"
     ]
    }
   ],
   "source": [
    "#Matriz de comparação par a par entre os critérios\n",
    "C=[[1,1, 3],[1, 1, 1/7],[1/3,7,1]] # matriz \n",
    "print(C) #imprime a matriz para ver se ele ta sabendo"
   ]
  },
  {
   "cell_type": "code",
   "execution_count": 2,
   "metadata": {},
   "outputs": [
    {
     "data": {
      "text/plain": [
       "3"
      ]
     },
     "execution_count": 2,
     "metadata": {},
     "output_type": "execute_result"
    }
   ],
   "source": [
    "len(C)"
   ]
  },
  {
   "cell_type": "code",
   "execution_count": 3,
   "metadata": {
    "colab": {
     "base_uri": "https://localhost:8080/"
    },
    "id": "bYuhJ-jwqZnA",
    "outputId": "65084ef5-d801-4203-fe0e-277ca7c723c1"
   },
   "outputs": [
    {
     "name": "stdout",
     "output_type": "stream",
     "text": [
      "[ 4.1213843 +0.j         -0.56069215+2.07539875j -0.56069215-2.07539875j]\n",
      ".....\n",
      "[[-0.7111869 +0.j          0.7111869 +0.j          0.7111869 -0.j        ]\n",
      " [-0.25777689+0.j         -0.12888845-0.22324134j -0.12888845+0.22324134j]\n",
      " [-0.65403691+0.j         -0.32701845+0.56641258j -0.32701845-0.56641258j]]\n"
     ]
    }
   ],
   "source": [
    "#Cálculo do autovalor e do autorvetor de C\n",
    "autovalor, autovetor = np.linalg.eig(C)\n",
    "print(autovalor)\n",
    "print(\".....\")\n",
    "print(autovetor)\n"
   ]
  },
  {
   "cell_type": "code",
   "execution_count": 4,
   "metadata": {
    "colab": {
     "base_uri": "https://localhost:8080/"
    },
    "id": "RvGAPNG-h2BJ",
    "outputId": "b042bcd9-6f45-4af6-8cef-014e5c67d337"
   },
   "outputs": [
    {
     "name": "stdout",
     "output_type": "stream",
     "text": [
      "[ 4.1213843  -0.56069215 -0.56069215]\n",
      " \n",
      "[[-0.7111869   0.7111869   0.7111869 ]\n",
      " [-0.25777689 -0.12888845 -0.12888845]\n",
      " [-0.65403691 -0.32701845 -0.32701845]]\n"
     ]
    }
   ],
   "source": [
    "#Considerar apenas a parte real do autovalor\n",
    "autovalor_real = autovalor.real\n",
    "autovetor = autovetor.real\n",
    "print(autovalor_real)\n",
    "print(\" \")\n",
    "print(autovetor.real)"
   ]
  },
  {
   "cell_type": "code",
   "execution_count": 5,
   "metadata": {
    "colab": {
     "base_uri": "https://localhost:8080/"
    },
    "id": "rn1KgNLZsYYm",
    "outputId": "96169e2a-209e-4f76-dc97-21a380b4ed83"
   },
   "outputs": [
    {
     "name": "stdout",
     "output_type": "stream",
     "text": [
      "O maior autovalor (lambda_max) é: 4.121384300715419\n",
      " \n",
      "Ele está na posição: 0 do vetor\n"
     ]
    }
   ],
   "source": [
    "#Encontrar o maior autovalor e sua posição\n",
    "lambda_max = np.amax(autovalor_real) # maior autovalor\n",
    "lambda_ind = np.argmax(autovalor_real) # posição do maior autovalor\n",
    "print(\"O maior autovalor (lambda_max) é:\", lambda_max)\n",
    "print(\" \")\n",
    "print(\"Ele está na posição:\", lambda_ind, \"do vetor\")"
   ]
  },
  {
   "cell_type": "code",
   "execution_count": 6,
   "metadata": {
    "colab": {
     "base_uri": "https://localhost:8080/"
    },
    "id": "tQ2Ounuqs9OY",
    "outputId": "f05c0693-d0e5-4a49-f194-9968314d787c"
   },
   "outputs": [
    {
     "name": "stdout",
     "output_type": "stream",
     "text": [
      "[-0.7111869  -0.25777689 -0.65403691]\n",
      " \n",
      "[0.4381926  0.15882734 0.40298005]\n",
      "0.9999999999999999\n"
     ]
    }
   ],
   "source": [
    "#Calculando o vetor de prioridades, com base no autovetor associado ao maior autovalor\n",
    "vetor_P=autovetor[:, lambda_ind] #pega o autovalor correspondente a lambda_max\n",
    "print(vetor_P)\n",
    "\n",
    "#Normalizando o vetor_P para que tenha soma 1\n",
    "vetor_P = vetor_P/sum(vetor_P) # w é o vetor de pesos normalizado\n",
    "print(\" \")\n",
    "print(vetor_P)\n",
    "print(sum(vetor_P))"
   ]
  },
  {
   "cell_type": "code",
   "execution_count": 7,
   "metadata": {
    "colab": {
     "base_uri": "https://localhost:8080/"
    },
    "id": "ozVlwP6npvrK",
    "outputId": "9a391137-ad28-4d41-e43a-0c88e2b6d433"
   },
   "outputs": [
    {
     "name": "stdout",
     "output_type": "stream",
     "text": [
      "A razão de consistência é  0.9667106040650162\n",
      " \n",
      "\u001b[91mAtenção:\u001b[0ma matriz NÃO É consistente - revisar a comparação par-a-par.\n"
     ]
    }
   ],
   "source": [
    "#Calculo da consistência da matriz de comparação par a par\n",
    "RI_list = [0,0,0.58,0.90,1.12,1.24,1.32,1.41,1.45] # valores de RI pré-definidos\n",
    "n = len(C) # número de linhas de C\n",
    "CI = (lambda_max - n)/(n-1)\n",
    "RC = CI/RI_list[n-1]\n",
    "\n",
    "print(\"A razão de consistência é \", RC)\n",
    "print(\" \")\n",
    "if RC <= 0.1:\n",
    "  print(\"A matriz é consistente\")\n",
    "else:\n",
    "  print('\\033[91m'+\"Atenção:\"+'\\033[0m'+ \"a matriz NÃO É consistente - revisar a comparação par-a-par.\")\n"
   ]
  },
  {
   "cell_type": "code",
   "execution_count": 8,
   "metadata": {
    "id": "gjaiH68VyiNN"
   },
   "outputs": [],
   "source": [
    "#Programando o método do autovalor como uma função\n",
    "def ahp(C):\n",
    "  autovalor, autovetor=np.linalg.eig(C)\n",
    "  autovalor_real = autovalor.real\n",
    "  autovetor = autovetor.real\n",
    "  lambda_max = np.amax(autovalor_real) # maior autovalor\n",
    "  lambda_ind=np.argmax(autovalor_real) # posição do maior autovalor\n",
    "  vetor_P=autovetor[:, lambda_ind] #pega o autovalor correspondente a lambda_max\n",
    "  vetor_P = vetor_P/sum(vetor_P) # w é o vetor de pesos normalizado\n",
    "  RI_list = [0,0,0.58,0.90,1.12,1.24,1.32,1.41,1.45] # valores de RI pré-definidos\n",
    "  n = len(C) # número de linhas de C\n",
    "  CI = (lambda_max - n)/(n-1)\n",
    "  RC = CI/RI_list[n-1]\n",
    "  print(\"A razão de consistência é \", RC)\n",
    "  print(\" \")\n",
    "  if RC <= 0.1:\n",
    "    print(\"A matriz é consistente\")\n",
    "  else:\n",
    "    print('\\033[91m'+\"Atenção:\"+'\\033[0m'+ \"a matriz NÃO É consistente - revisar a comparação par-a-par.\")\n",
    "  print(\" \")\n",
    "  print(\"O vetor de prioridades é v:\", vetor_P)\n",
    "  print(\" \")\n",
    "  return vetor_P\n"
   ]
  },
  {
   "cell_type": "code",
   "execution_count": 9,
   "metadata": {
    "colab": {
     "base_uri": "https://localhost:8080/"
    },
    "id": "W2Tbg6Nr0lX1",
    "outputId": "0ac071cb-b3c4-480f-eb18-2d4d35517bcf"
   },
   "outputs": [
    {
     "name": "stdout",
     "output_type": "stream",
     "text": [
      "A razão de consistência é  0.2571252816185151\n",
      " \n",
      "\u001b[91mAtenção:\u001b[0ma matriz NÃO É consistente - revisar a comparação par-a-par.\n",
      " \n",
      "O vetor de prioridades é v: [0.03232434 0.08047236 0.1908988  0.6963045 ]\n",
      " \n"
     ]
    }
   ],
   "source": [
    "A=[[1,0.2, 0.14, 0.11],[5,1,0.2,0.14],[7,5,1,0.11], [9,7,9,1]]\n",
    "aa=ahp(A)"
   ]
  },
  {
   "cell_type": "code",
   "execution_count": 20,
   "metadata": {
    "id": "cxQsEGLBpbzK"
   },
   "outputs": [],
   "source": [
    "preco=np.array([[1,0.2, 0.14, 0.11],[5,1,0.2,0.14],[7,5,1,0.11], [9,7,9,1]])"
   ]
  },
  {
   "cell_type": "code",
   "execution_count": 22,
   "metadata": {},
   "outputs": [
    {
     "data": {
      "text/plain": [
       "(4, 4)"
      ]
     },
     "execution_count": 22,
     "metadata": {},
     "output_type": "execute_result"
    }
   ],
   "source": [
    "preco.shape"
   ]
  },
  {
   "cell_type": "code",
   "execution_count": 11,
   "metadata": {
    "colab": {
     "base_uri": "https://localhost:8080/"
    },
    "id": "dOJvD1cepfuU",
    "outputId": "c2d9dd84-bfb0-4c62-f4b5-0fae8b196329"
   },
   "outputs": [
    {
     "name": "stdout",
     "output_type": "stream",
     "text": [
      "A razão de consistência é  0.2571252816185151\n",
      " \n",
      "\u001b[91mAtenção:\u001b[0ma matriz NÃO É consistente - revisar a comparação par-a-par.\n",
      " \n",
      "O vetor de prioridades é v: [0.03232434 0.08047236 0.1908988  0.6963045 ]\n",
      " \n"
     ]
    },
    {
     "data": {
      "text/plain": [
       "array([0.03232434, 0.08047236, 0.1908988 , 0.6963045 ])"
      ]
     },
     "execution_count": 11,
     "metadata": {},
     "output_type": "execute_result"
    }
   ],
   "source": [
    "ahp(preco)"
   ]
  },
  {
   "cell_type": "code",
   "execution_count": 12,
   "metadata": {
    "colab": {
     "base_uri": "https://localhost:8080/"
    },
    "id": "xJYmtWRezExG",
    "outputId": "4a17af1f-e8af-475e-df3f-02a7a1c4ed9f"
   },
   "outputs": [
    {
     "name": "stdout",
     "output_type": "stream",
     "text": [
      "[0.99999999 0.99999999 0.99999999 0.99999999]\n"
     ]
    }
   ],
   "source": [
    "#Após calcular todos os vetores de prioridade, a agregação pode ser feita multiplicando as matrizes B pelo vetor de pesos w\n",
    "B = [[1,1,1,1],[1,1,1,1],[1,1,1,1]]\n",
    "B=np.transpose(B)\n",
    "w = [0.55842454, 0.31961826, 0.12195719]\n",
    "V=np.matmul(B, w)\n",
    "print(V)"
   ]
  }
 ],
 "metadata": {
  "colab": {
   "name": "AHP.ipynb",
   "provenance": []
  },
  "kernelspec": {
   "display_name": "Python 3",
   "language": "python",
   "name": "python3"
  },
  "language_info": {
   "codemirror_mode": {
    "name": "ipython",
    "version": 3
   },
   "file_extension": ".py",
   "mimetype": "text/x-python",
   "name": "python",
   "nbconvert_exporter": "python",
   "pygments_lexer": "ipython3",
   "version": "3.8.8"
  },
  "varInspector": {
   "cols": {
    "lenName": 16,
    "lenType": 16,
    "lenVar": 40
   },
   "kernels_config": {
    "python": {
     "delete_cmd_postfix": "",
     "delete_cmd_prefix": "del ",
     "library": "var_list.py",
     "varRefreshCmd": "print(var_dic_list())"
    },
    "r": {
     "delete_cmd_postfix": ") ",
     "delete_cmd_prefix": "rm(",
     "library": "var_list.r",
     "varRefreshCmd": "cat(var_dic_list()) "
    }
   },
   "types_to_exclude": [
    "module",
    "function",
    "builtin_function_or_method",
    "instance",
    "_Feature"
   ],
   "window_display": false
  }
 },
 "nbformat": 4,
 "nbformat_minor": 1
}
